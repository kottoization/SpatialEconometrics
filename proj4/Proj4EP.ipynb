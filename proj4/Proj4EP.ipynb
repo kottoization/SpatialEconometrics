{
  "nbformat": 4,
  "nbformat_minor": 0,
  "metadata": {
    "colab": {
      "provenance": []
    },
    "kernelspec": {
      "name": "python3",
      "display_name": "Python 3"
    },
    "language_info": {
      "name": "python"
    }
  },
  "cells": [
    {
      "cell_type": "code",
      "source": [
        "!pip install pysal --quiet\n",
        "!pip install unidecode --quiet\n",
        "!pip install fuzzywuzzy --quiet"
      ],
      "metadata": {
        "id": "zwypsCoRbPXU",
        "colab": {
          "base_uri": "https://localhost:8080/"
        },
        "outputId": "f4cc271d-81cd-47cd-b0b4-7dfa16673633"
      },
      "execution_count": null,
      "outputs": [
        {
          "output_type": "stream",
          "name": "stdout",
          "text": [
            "  Preparing metadata (setup.py) ... \u001b[?25l\u001b[?25hdone\n",
            "\u001b[2K     \u001b[90m━━━━━━━━━━━━━━━━━━━━━━━━━━━━━━━━━━━━━━━━\u001b[0m \u001b[32m5.7/5.7 MB\u001b[0m \u001b[31m32.8 MB/s\u001b[0m eta \u001b[36m0:00:00\u001b[0m\n",
            "\u001b[?25h  Preparing metadata (setup.py) ... \u001b[?25l\u001b[?25hdone\n",
            "\u001b[2K     \u001b[90m━━━━━━━━━━━━━━━━━━━━━━━━━━━━━━━━━━━━━━━━\u001b[0m \u001b[32m56.6/56.6 kB\u001b[0m \u001b[31m2.9 MB/s\u001b[0m eta \u001b[36m0:00:00\u001b[0m\n",
            "\u001b[2K   \u001b[90m━━━━━━━━━━━━━━━━━━━━━━━━━━━━━━━━━━━━━━━━\u001b[0m \u001b[32m135.4/135.4 kB\u001b[0m \u001b[31m7.9 MB/s\u001b[0m eta \u001b[36m0:00:00\u001b[0m\n",
            "\u001b[2K   \u001b[90m━━━━━━━━━━━━━━━━━━━━━━━━━━━━━━━━━━━━━━━━\u001b[0m \u001b[32m61.3/61.3 kB\u001b[0m \u001b[31m3.6 MB/s\u001b[0m eta \u001b[36m0:00:00\u001b[0m\n",
            "\u001b[2K   \u001b[90m━━━━━━━━━━━━━━━━━━━━━━━━━━━━━━━━━━━━━━━━\u001b[0m \u001b[32m2.8/2.8 MB\u001b[0m \u001b[31m49.4 MB/s\u001b[0m eta \u001b[36m0:00:00\u001b[0m\n",
            "\u001b[2K   \u001b[90m━━━━━━━━━━━━━━━━━━━━━━━━━━━━━━━━━━━━━━━━\u001b[0m \u001b[32m59.1/59.1 kB\u001b[0m \u001b[31m3.6 MB/s\u001b[0m eta \u001b[36m0:00:00\u001b[0m\n",
            "\u001b[2K   \u001b[90m━━━━━━━━━━━━━━━━━━━━━━━━━━━━━━━━━━━━━━━━\u001b[0m \u001b[32m47.9/47.9 kB\u001b[0m \u001b[31m3.0 MB/s\u001b[0m eta \u001b[36m0:00:00\u001b[0m\n",
            "\u001b[2K   \u001b[90m━━━━━━━━━━━━━━━━━━━━━━━━━━━━━━━━━━━━━━━━\u001b[0m \u001b[32m1.7/1.7 MB\u001b[0m \u001b[31m42.1 MB/s\u001b[0m eta \u001b[36m0:00:00\u001b[0m\n",
            "\u001b[2K   \u001b[90m━━━━━━━━━━━━━━━━━━━━━━━━━━━━━━━━━━━━━━━━\u001b[0m \u001b[32m59.2/59.2 kB\u001b[0m \u001b[31m3.6 MB/s\u001b[0m eta \u001b[36m0:00:00\u001b[0m\n",
            "\u001b[2K   \u001b[90m━━━━━━━━━━━━━━━━━━━━━━━━━━━━━━━━━━━━━━━━\u001b[0m \u001b[32m141.3/141.3 kB\u001b[0m \u001b[31m9.6 MB/s\u001b[0m eta \u001b[36m0:00:00\u001b[0m\n",
            "\u001b[2K   \u001b[90m━━━━━━━━━━━━━━━━━━━━━━━━━━━━━━━━━━━━━━━━\u001b[0m \u001b[32m53.9/53.9 kB\u001b[0m \u001b[31m3.8 MB/s\u001b[0m eta \u001b[36m0:00:00\u001b[0m\n",
            "\u001b[2K   \u001b[90m━━━━━━━━━━━━━━━━━━━━━━━━━━━━━━━━━━━━━━━━\u001b[0m \u001b[32m41.4/41.4 kB\u001b[0m \u001b[31m2.6 MB/s\u001b[0m eta \u001b[36m0:00:00\u001b[0m\n",
            "\u001b[2K   \u001b[90m━━━━━━━━━━━━━━━━━━━━━━━━━━━━━━━━━━━━━━━━\u001b[0m \u001b[32m243.1/243.1 kB\u001b[0m \u001b[31m13.6 MB/s\u001b[0m eta \u001b[36m0:00:00\u001b[0m\n",
            "\u001b[2K   \u001b[90m━━━━━━━━━━━━━━━━━━━━━━━━━━━━━━━━━━━━━━━━\u001b[0m \u001b[32m379.9/379.9 kB\u001b[0m \u001b[31m21.3 MB/s\u001b[0m eta \u001b[36m0:00:00\u001b[0m\n",
            "\u001b[2K   \u001b[90m━━━━━━━━━━━━━━━━━━━━━━━━━━━━━━━━━━━━━━━━\u001b[0m \u001b[32m17.7/17.7 MB\u001b[0m \u001b[31m23.4 MB/s\u001b[0m eta \u001b[36m0:00:00\u001b[0m\n",
            "\u001b[2K   \u001b[90m━━━━━━━━━━━━━━━━━━━━━━━━━━━━━━━━━━━━━━━━\u001b[0m \u001b[32m215.4/215.4 kB\u001b[0m \u001b[31m1.0 MB/s\u001b[0m eta \u001b[36m0:00:00\u001b[0m\n",
            "\u001b[2K   \u001b[90m━━━━━━━━━━━━━━━━━━━━━━━━━━━━━━━━━━━━━━━━\u001b[0m \u001b[32m543.2/543.2 kB\u001b[0m \u001b[31m21.3 MB/s\u001b[0m eta \u001b[36m0:00:00\u001b[0m\n",
            "\u001b[2K   \u001b[90m━━━━━━━━━━━━━━━━━━━━━━━━━━━━━━━━━━━━━━━━\u001b[0m \u001b[32m22.2/22.2 MB\u001b[0m \u001b[31m47.0 MB/s\u001b[0m eta \u001b[36m0:00:00\u001b[0m\n",
            "\u001b[2K   \u001b[90m━━━━━━━━━━━━━━━━━━━━━━━━━━━━━━━━━━━━━━━━\u001b[0m \u001b[32m17.3/17.3 MB\u001b[0m \u001b[31m48.9 MB/s\u001b[0m eta \u001b[36m0:00:00\u001b[0m\n",
            "\u001b[2K   \u001b[90m━━━━━━━━━━━━━━━━━━━━━━━━━━━━━━━━━━━━━━━━\u001b[0m \u001b[32m137.9/137.9 kB\u001b[0m \u001b[31m7.2 MB/s\u001b[0m eta \u001b[36m0:00:00\u001b[0m\n",
            "\u001b[?25h  Building wheel for spint (setup.py) ... \u001b[?25l\u001b[?25hdone\n",
            "  Building wheel for spvcm (setup.py) ... \u001b[?25l\u001b[?25hdone\n",
            "\u001b[2K   \u001b[90m━━━━━━━━━━━━━━━━━━━━━━━━━━━━━━━━━━━━━━━━\u001b[0m \u001b[32m235.5/235.5 kB\u001b[0m \u001b[31m4.0 MB/s\u001b[0m eta \u001b[36m0:00:00\u001b[0m\n",
            "\u001b[?25h"
          ]
        }
      ]
    },
    {
      "cell_type": "code",
      "execution_count": null,
      "metadata": {
        "id": "FDJ4l6MuYi3r"
      },
      "outputs": [],
      "source": [
        "import geopandas as gpd\n",
        "import pandas as pd\n",
        "import numpy as np\n",
        "import statsmodels.api as sm\n",
        "from libpysal.weights import Queen\n",
        "from esda import Moran, Moran_Local, Geary, G\n",
        "import matplotlib.pyplot as plt\n",
        "from libpysal import weights\n",
        "from splot.esda import moran_scatterplot\n",
        "from sklearn.preprocessing import StandardScaler\n",
        "from spreg import ML_Lag, ML_Error\n",
        "from scipy.stats import normaltest, levene\n",
        "import unidecode\n",
        "from fuzzywuzzy import process\n",
        "import warnings\n",
        "from scipy.stats import f"
      ]
    },
    {
      "cell_type": "markdown",
      "source": [
        "# Model z projektu 3"
      ],
      "metadata": {
        "id": "XMKfg_uJYosk"
      }
    },
    {
      "cell_type": "code",
      "source": [
        "data = pd.ExcelFile('daneProj3.xlsx')\n",
        "df = data.parse('Arkusz1')\n",
        "\n",
        "# Normalizacja nazw w daneProj3\n",
        "df['Nazwa'] = df['Nazwa'].str.replace('Powiat ', '', regex=False)\n",
        "df['Nazwa'] = df['Nazwa'].str.replace('m. ', '', regex=False)\n",
        "df['Nazwa'] = df['Nazwa'].str.replace('st. ', '', regex=False)\n",
        "df['Nazwa'] = df['Nazwa'].str.strip().str.lower()\n",
        "\n",
        "# Usuwanie duplikatów\n",
        "df = df.drop_duplicates(subset='Nazwa')\n",
        "\n",
        "# Definicja zmiennej zależnej i objaśniających\n",
        "X = df.drop(columns=['odpadyTysTon', 'Nazwa'], errors='ignore')  # Usuwamy 'Nazwa', jeśli istnieje\n",
        "y = df['odpadyTysTon']\n",
        "\n",
        "# Dodanie stałej do modelu\n",
        "X = sm.add_constant(X)\n",
        "\n",
        "# Budowa modelu OLS\n",
        "model_filtered = sm.OLS(y, X).fit()\n",
        "print(model_filtered.summary())\n",
        "\n",
        "# Pobieranie reszt\n",
        "residuals = model_filtered.resid\n"
      ],
      "metadata": {
        "id": "RIVDfQg2Yqge",
        "colab": {
          "base_uri": "https://localhost:8080/"
        },
        "outputId": "04629cef-20c2-4f4b-db4a-389ad1c2d95e"
      },
      "execution_count": null,
      "outputs": [
        {
          "output_type": "stream",
          "name": "stdout",
          "text": [
            "                            OLS Regression Results                            \n",
            "==============================================================================\n",
            "Dep. Variable:           odpadyTysTon   R-squared:                       0.006\n",
            "Model:                            OLS   Adj. R-squared:                 -0.010\n",
            "Method:                 Least Squares   F-statistic:                    0.3853\n",
            "Date:                Sat, 21 Dec 2024   Prob (F-statistic):              0.888\n",
            "Time:                        15:58:10   Log-Likelihood:                -1999.6\n",
            "No. Observations:                 370   AIC:                             4013.\n",
            "Df Residuals:                     363   BIC:                             4041.\n",
            "Df Model:                           6                                         \n",
            "Covariance Type:            nonrobust                                         \n",
            "======================================================================================\n",
            "                         coef    std err          t      P>|t|      [0.025      0.975]\n",
            "--------------------------------------------------------------------------------------\n",
            "const                 49.6302     28.548      1.738      0.083      -6.511     105.771\n",
            "gestoscZaludnienia  5.206e-05      0.008      0.007      0.995      -0.015       0.016\n",
            "ludnoscTys             0.0238      0.030      0.803      0.423      -0.035       0.082\n",
            "wskUrban               0.0977      0.168      0.583      0.560      -0.232       0.427\n",
            "turystyka             -0.0446      0.060     -0.739      0.461      -0.163       0.074\n",
            "wynagrodzenie         -0.0032      0.005     -0.681      0.496      -0.013       0.006\n",
            "bezrobocie            -0.1800      0.788     -0.228      0.820      -1.730       1.370\n",
            "==============================================================================\n",
            "Omnibus:                      577.926   Durbin-Watson:                   1.922\n",
            "Prob(Omnibus):                  0.000   Jarque-Bera (JB):           141444.334\n",
            "Skew:                           8.359   Prob(JB):                         0.00\n",
            "Kurtosis:                      97.315   Cond. No.                     5.95e+04\n",
            "==============================================================================\n",
            "\n",
            "Notes:\n",
            "[1] Standard Errors assume that the covariance matrix of the errors is correctly specified.\n",
            "[2] The condition number is large, 5.95e+04. This might indicate that there are\n",
            "strong multicollinearity or other numerical problems.\n"
          ]
        }
      ]
    },
    {
      "cell_type": "markdown",
      "source": [
        "# Badanie zależności przestrzennych w modelu"
      ],
      "metadata": {
        "id": "T7SFlWruY1n8"
      }
    },
    {
      "cell_type": "code",
      "source": [
        "powiaty = gpd.read_file('powiaty.shp')\n",
        "powiaty['geometry'] = powiaty['geometry'].buffer(0)\n"
      ],
      "metadata": {
        "id": "l7rIIbRciedx"
      },
      "execution_count": null,
      "outputs": []
    },
    {
      "cell_type": "code",
      "source": [
        "df = data.parse('Arkusz1')\n",
        "df.head()"
      ],
      "metadata": {
        "colab": {
          "base_uri": "https://localhost:8080/",
          "height": 206
        },
        "id": "6fv8ADC0j0no",
        "outputId": "68805ca7-432a-4144-ab20-ac63a3b6d62c"
      },
      "execution_count": null,
      "outputs": [
        {
          "output_type": "execute_result",
          "data": {
            "text/plain": [
              "                   Nazwa  gestoscZaludnienia  ludnoscTys  wskUrban  turystyka  \\\n",
              "0   Powiat bolesławiecki                67.5       87.92      47.1         17   \n",
              "1  Powiat dzierżoniowski               200.3       95.86      78.2         19   \n",
              "2       Powiat głogowski               193.3       85.69      73.4          9   \n",
              "3        Powiat górowski                44.3       32.74      41.1          1   \n",
              "4        Powiat jaworski                81.9       47.58      53.6         14   \n",
              "\n",
              "   wynagrodzenie  bezrobocie  odpadyTysTon  \n",
              "0        6181.60         3.1         10.56  \n",
              "1        5723.65         5.2         59.76  \n",
              "2        5856.76         6.4         17.89  \n",
              "3        5423.11        13.8         25.50  \n",
              "4        6142.84        10.2         31.36  "
            ],
            "text/html": [
              "\n",
              "  <div id=\"df-a026b6f9-5ebd-48de-a5c9-065631db2722\" class=\"colab-df-container\">\n",
              "    <div>\n",
              "<style scoped>\n",
              "    .dataframe tbody tr th:only-of-type {\n",
              "        vertical-align: middle;\n",
              "    }\n",
              "\n",
              "    .dataframe tbody tr th {\n",
              "        vertical-align: top;\n",
              "    }\n",
              "\n",
              "    .dataframe thead th {\n",
              "        text-align: right;\n",
              "    }\n",
              "</style>\n",
              "<table border=\"1\" class=\"dataframe\">\n",
              "  <thead>\n",
              "    <tr style=\"text-align: right;\">\n",
              "      <th></th>\n",
              "      <th>Nazwa</th>\n",
              "      <th>gestoscZaludnienia</th>\n",
              "      <th>ludnoscTys</th>\n",
              "      <th>wskUrban</th>\n",
              "      <th>turystyka</th>\n",
              "      <th>wynagrodzenie</th>\n",
              "      <th>bezrobocie</th>\n",
              "      <th>odpadyTysTon</th>\n",
              "    </tr>\n",
              "  </thead>\n",
              "  <tbody>\n",
              "    <tr>\n",
              "      <th>0</th>\n",
              "      <td>Powiat bolesławiecki</td>\n",
              "      <td>67.5</td>\n",
              "      <td>87.92</td>\n",
              "      <td>47.1</td>\n",
              "      <td>17</td>\n",
              "      <td>6181.60</td>\n",
              "      <td>3.1</td>\n",
              "      <td>10.56</td>\n",
              "    </tr>\n",
              "    <tr>\n",
              "      <th>1</th>\n",
              "      <td>Powiat dzierżoniowski</td>\n",
              "      <td>200.3</td>\n",
              "      <td>95.86</td>\n",
              "      <td>78.2</td>\n",
              "      <td>19</td>\n",
              "      <td>5723.65</td>\n",
              "      <td>5.2</td>\n",
              "      <td>59.76</td>\n",
              "    </tr>\n",
              "    <tr>\n",
              "      <th>2</th>\n",
              "      <td>Powiat głogowski</td>\n",
              "      <td>193.3</td>\n",
              "      <td>85.69</td>\n",
              "      <td>73.4</td>\n",
              "      <td>9</td>\n",
              "      <td>5856.76</td>\n",
              "      <td>6.4</td>\n",
              "      <td>17.89</td>\n",
              "    </tr>\n",
              "    <tr>\n",
              "      <th>3</th>\n",
              "      <td>Powiat górowski</td>\n",
              "      <td>44.3</td>\n",
              "      <td>32.74</td>\n",
              "      <td>41.1</td>\n",
              "      <td>1</td>\n",
              "      <td>5423.11</td>\n",
              "      <td>13.8</td>\n",
              "      <td>25.50</td>\n",
              "    </tr>\n",
              "    <tr>\n",
              "      <th>4</th>\n",
              "      <td>Powiat jaworski</td>\n",
              "      <td>81.9</td>\n",
              "      <td>47.58</td>\n",
              "      <td>53.6</td>\n",
              "      <td>14</td>\n",
              "      <td>6142.84</td>\n",
              "      <td>10.2</td>\n",
              "      <td>31.36</td>\n",
              "    </tr>\n",
              "  </tbody>\n",
              "</table>\n",
              "</div>\n",
              "    <div class=\"colab-df-buttons\">\n",
              "\n",
              "  <div class=\"colab-df-container\">\n",
              "    <button class=\"colab-df-convert\" onclick=\"convertToInteractive('df-a026b6f9-5ebd-48de-a5c9-065631db2722')\"\n",
              "            title=\"Convert this dataframe to an interactive table.\"\n",
              "            style=\"display:none;\">\n",
              "\n",
              "  <svg xmlns=\"http://www.w3.org/2000/svg\" height=\"24px\" viewBox=\"0 -960 960 960\">\n",
              "    <path d=\"M120-120v-720h720v720H120Zm60-500h600v-160H180v160Zm220 220h160v-160H400v160Zm0 220h160v-160H400v160ZM180-400h160v-160H180v160Zm440 0h160v-160H620v160ZM180-180h160v-160H180v160Zm440 0h160v-160H620v160Z\"/>\n",
              "  </svg>\n",
              "    </button>\n",
              "\n",
              "  <style>\n",
              "    .colab-df-container {\n",
              "      display:flex;\n",
              "      gap: 12px;\n",
              "    }\n",
              "\n",
              "    .colab-df-convert {\n",
              "      background-color: #E8F0FE;\n",
              "      border: none;\n",
              "      border-radius: 50%;\n",
              "      cursor: pointer;\n",
              "      display: none;\n",
              "      fill: #1967D2;\n",
              "      height: 32px;\n",
              "      padding: 0 0 0 0;\n",
              "      width: 32px;\n",
              "    }\n",
              "\n",
              "    .colab-df-convert:hover {\n",
              "      background-color: #E2EBFA;\n",
              "      box-shadow: 0px 1px 2px rgba(60, 64, 67, 0.3), 0px 1px 3px 1px rgba(60, 64, 67, 0.15);\n",
              "      fill: #174EA6;\n",
              "    }\n",
              "\n",
              "    .colab-df-buttons div {\n",
              "      margin-bottom: 4px;\n",
              "    }\n",
              "\n",
              "    [theme=dark] .colab-df-convert {\n",
              "      background-color: #3B4455;\n",
              "      fill: #D2E3FC;\n",
              "    }\n",
              "\n",
              "    [theme=dark] .colab-df-convert:hover {\n",
              "      background-color: #434B5C;\n",
              "      box-shadow: 0px 1px 3px 1px rgba(0, 0, 0, 0.15);\n",
              "      filter: drop-shadow(0px 1px 2px rgba(0, 0, 0, 0.3));\n",
              "      fill: #FFFFFF;\n",
              "    }\n",
              "  </style>\n",
              "\n",
              "    <script>\n",
              "      const buttonEl =\n",
              "        document.querySelector('#df-a026b6f9-5ebd-48de-a5c9-065631db2722 button.colab-df-convert');\n",
              "      buttonEl.style.display =\n",
              "        google.colab.kernel.accessAllowed ? 'block' : 'none';\n",
              "\n",
              "      async function convertToInteractive(key) {\n",
              "        const element = document.querySelector('#df-a026b6f9-5ebd-48de-a5c9-065631db2722');\n",
              "        const dataTable =\n",
              "          await google.colab.kernel.invokeFunction('convertToInteractive',\n",
              "                                                    [key], {});\n",
              "        if (!dataTable) return;\n",
              "\n",
              "        const docLinkHtml = 'Like what you see? Visit the ' +\n",
              "          '<a target=\"_blank\" href=https://colab.research.google.com/notebooks/data_table.ipynb>data table notebook</a>'\n",
              "          + ' to learn more about interactive tables.';\n",
              "        element.innerHTML = '';\n",
              "        dataTable['output_type'] = 'display_data';\n",
              "        await google.colab.output.renderOutput(dataTable, element);\n",
              "        const docLink = document.createElement('div');\n",
              "        docLink.innerHTML = docLinkHtml;\n",
              "        element.appendChild(docLink);\n",
              "      }\n",
              "    </script>\n",
              "  </div>\n",
              "\n",
              "\n",
              "<div id=\"df-0635bc0c-093e-4ca3-922c-8e324874bf25\">\n",
              "  <button class=\"colab-df-quickchart\" onclick=\"quickchart('df-0635bc0c-093e-4ca3-922c-8e324874bf25')\"\n",
              "            title=\"Suggest charts\"\n",
              "            style=\"display:none;\">\n",
              "\n",
              "<svg xmlns=\"http://www.w3.org/2000/svg\" height=\"24px\"viewBox=\"0 0 24 24\"\n",
              "     width=\"24px\">\n",
              "    <g>\n",
              "        <path d=\"M19 3H5c-1.1 0-2 .9-2 2v14c0 1.1.9 2 2 2h14c1.1 0 2-.9 2-2V5c0-1.1-.9-2-2-2zM9 17H7v-7h2v7zm4 0h-2V7h2v10zm4 0h-2v-4h2v4z\"/>\n",
              "    </g>\n",
              "</svg>\n",
              "  </button>\n",
              "\n",
              "<style>\n",
              "  .colab-df-quickchart {\n",
              "      --bg-color: #E8F0FE;\n",
              "      --fill-color: #1967D2;\n",
              "      --hover-bg-color: #E2EBFA;\n",
              "      --hover-fill-color: #174EA6;\n",
              "      --disabled-fill-color: #AAA;\n",
              "      --disabled-bg-color: #DDD;\n",
              "  }\n",
              "\n",
              "  [theme=dark] .colab-df-quickchart {\n",
              "      --bg-color: #3B4455;\n",
              "      --fill-color: #D2E3FC;\n",
              "      --hover-bg-color: #434B5C;\n",
              "      --hover-fill-color: #FFFFFF;\n",
              "      --disabled-bg-color: #3B4455;\n",
              "      --disabled-fill-color: #666;\n",
              "  }\n",
              "\n",
              "  .colab-df-quickchart {\n",
              "    background-color: var(--bg-color);\n",
              "    border: none;\n",
              "    border-radius: 50%;\n",
              "    cursor: pointer;\n",
              "    display: none;\n",
              "    fill: var(--fill-color);\n",
              "    height: 32px;\n",
              "    padding: 0;\n",
              "    width: 32px;\n",
              "  }\n",
              "\n",
              "  .colab-df-quickchart:hover {\n",
              "    background-color: var(--hover-bg-color);\n",
              "    box-shadow: 0 1px 2px rgba(60, 64, 67, 0.3), 0 1px 3px 1px rgba(60, 64, 67, 0.15);\n",
              "    fill: var(--button-hover-fill-color);\n",
              "  }\n",
              "\n",
              "  .colab-df-quickchart-complete:disabled,\n",
              "  .colab-df-quickchart-complete:disabled:hover {\n",
              "    background-color: var(--disabled-bg-color);\n",
              "    fill: var(--disabled-fill-color);\n",
              "    box-shadow: none;\n",
              "  }\n",
              "\n",
              "  .colab-df-spinner {\n",
              "    border: 2px solid var(--fill-color);\n",
              "    border-color: transparent;\n",
              "    border-bottom-color: var(--fill-color);\n",
              "    animation:\n",
              "      spin 1s steps(1) infinite;\n",
              "  }\n",
              "\n",
              "  @keyframes spin {\n",
              "    0% {\n",
              "      border-color: transparent;\n",
              "      border-bottom-color: var(--fill-color);\n",
              "      border-left-color: var(--fill-color);\n",
              "    }\n",
              "    20% {\n",
              "      border-color: transparent;\n",
              "      border-left-color: var(--fill-color);\n",
              "      border-top-color: var(--fill-color);\n",
              "    }\n",
              "    30% {\n",
              "      border-color: transparent;\n",
              "      border-left-color: var(--fill-color);\n",
              "      border-top-color: var(--fill-color);\n",
              "      border-right-color: var(--fill-color);\n",
              "    }\n",
              "    40% {\n",
              "      border-color: transparent;\n",
              "      border-right-color: var(--fill-color);\n",
              "      border-top-color: var(--fill-color);\n",
              "    }\n",
              "    60% {\n",
              "      border-color: transparent;\n",
              "      border-right-color: var(--fill-color);\n",
              "    }\n",
              "    80% {\n",
              "      border-color: transparent;\n",
              "      border-right-color: var(--fill-color);\n",
              "      border-bottom-color: var(--fill-color);\n",
              "    }\n",
              "    90% {\n",
              "      border-color: transparent;\n",
              "      border-bottom-color: var(--fill-color);\n",
              "    }\n",
              "  }\n",
              "</style>\n",
              "\n",
              "  <script>\n",
              "    async function quickchart(key) {\n",
              "      const quickchartButtonEl =\n",
              "        document.querySelector('#' + key + ' button');\n",
              "      quickchartButtonEl.disabled = true;  // To prevent multiple clicks.\n",
              "      quickchartButtonEl.classList.add('colab-df-spinner');\n",
              "      try {\n",
              "        const charts = await google.colab.kernel.invokeFunction(\n",
              "            'suggestCharts', [key], {});\n",
              "      } catch (error) {\n",
              "        console.error('Error during call to suggestCharts:', error);\n",
              "      }\n",
              "      quickchartButtonEl.classList.remove('colab-df-spinner');\n",
              "      quickchartButtonEl.classList.add('colab-df-quickchart-complete');\n",
              "    }\n",
              "    (() => {\n",
              "      let quickchartButtonEl =\n",
              "        document.querySelector('#df-0635bc0c-093e-4ca3-922c-8e324874bf25 button');\n",
              "      quickchartButtonEl.style.display =\n",
              "        google.colab.kernel.accessAllowed ? 'block' : 'none';\n",
              "    })();\n",
              "  </script>\n",
              "</div>\n",
              "\n",
              "    </div>\n",
              "  </div>\n"
            ],
            "application/vnd.google.colaboratory.intrinsic+json": {
              "type": "dataframe",
              "variable_name": "df",
              "summary": "{\n  \"name\": \"df\",\n  \"rows\": 380,\n  \"fields\": [\n    {\n      \"column\": \"Nazwa\",\n      \"properties\": {\n        \"dtype\": \"string\",\n        \"num_unique_values\": 370,\n        \"samples\": [\n          \"Powiat krotoszy\\u0144ski\",\n          \"Powiat che\\u0142mi\\u0144ski\",\n          \"Powiat polkowicki\"\n        ],\n        \"semantic_type\": \"\",\n        \"description\": \"\"\n      }\n    },\n    {\n      \"column\": \"gestoscZaludnienia\",\n      \"properties\": {\n        \"dtype\": \"number\",\n        \"std\": 627.7972150712484,\n        \"min\": 18.2,\n        \"max\": 3600.1,\n        \"num_unique_values\": 349,\n        \"samples\": [\n          44.7,\n          50.7,\n          74.3\n        ],\n        \"semantic_type\": \"\",\n        \"description\": \"\"\n      }\n    },\n    {\n      \"column\": \"ludnoscTys\",\n      \"properties\": {\n        \"dtype\": \"number\",\n        \"std\": 123.77223656374282,\n        \"min\": 18.8,\n        \"max\": 1861.98,\n        \"num_unique_values\": 373,\n        \"samples\": [\n          77.4,\n          49.56,\n          61.31\n        ],\n        \"semantic_type\": \"\",\n        \"description\": \"\"\n      }\n    },\n    {\n      \"column\": \"wskUrban\",\n      \"properties\": {\n        \"dtype\": \"number\",\n        \"std\": 27.42650754537748,\n        \"min\": 0.0,\n        \"max\": 100.0,\n        \"num_unique_values\": 252,\n        \"samples\": [\n          57.4,\n          56.4,\n          28.4\n        ],\n        \"semantic_type\": \"\",\n        \"description\": \"\"\n      }\n    },\n    {\n      \"column\": \"turystyka\",\n      \"properties\": {\n        \"dtype\": \"number\",\n        \"std\": 49,\n        \"min\": 0,\n        \"max\": 441,\n        \"num_unique_values\": 78,\n        \"samples\": [\n          48,\n          17,\n          53\n        ],\n        \"semantic_type\": \"\",\n        \"description\": \"\"\n      }\n    },\n    {\n      \"column\": \"wynagrodzenie\",\n      \"properties\": {\n        \"dtype\": \"number\",\n        \"std\": 705.8808744360056,\n        \"min\": 4668.6,\n        \"max\": 11361.51,\n        \"num_unique_values\": 380,\n        \"samples\": [\n          5620.67,\n          5629.12,\n          6218.12\n        ],\n        \"semantic_type\": \"\",\n        \"description\": \"\"\n      }\n    },\n    {\n      \"column\": \"bezrobocie\",\n      \"properties\": {\n        \"dtype\": \"number\",\n        \"std\": 3.994963465743587,\n        \"min\": 1.0,\n        \"max\": 24.6,\n        \"num_unique_values\": 133,\n        \"samples\": [\n          7.9,\n          5.3,\n          12.3\n        ],\n        \"semantic_type\": \"\",\n        \"description\": \"\"\n      }\n    },\n    {\n      \"column\": \"odpadyTysTon\",\n      \"properties\": {\n        \"dtype\": \"number\",\n        \"std\": 53.44904713283872,\n        \"min\": 4.22,\n        \"max\": 761.22,\n        \"num_unique_values\": 359,\n        \"samples\": [\n          23.68,\n          59.09,\n          18.43\n        ],\n        \"semantic_type\": \"\",\n        \"description\": \"\"\n      }\n    }\n  ]\n}"
            }
          },
          "metadata": {},
          "execution_count": 82
        }
      ]
    },
    {
      "cell_type": "code",
      "source": [
        "df.info()"
      ],
      "metadata": {
        "colab": {
          "base_uri": "https://localhost:8080/"
        },
        "id": "njn44EF6IEzr",
        "outputId": "d84d5022-607d-43fc-c471-087bd9240e0b"
      },
      "execution_count": null,
      "outputs": [
        {
          "output_type": "stream",
          "name": "stdout",
          "text": [
            "<class 'pandas.core.frame.DataFrame'>\n",
            "RangeIndex: 380 entries, 0 to 379\n",
            "Data columns (total 8 columns):\n",
            " #   Column              Non-Null Count  Dtype  \n",
            "---  ------              --------------  -----  \n",
            " 0   Nazwa               380 non-null    object \n",
            " 1   gestoscZaludnienia  380 non-null    float64\n",
            " 2   ludnoscTys          380 non-null    float64\n",
            " 3   wskUrban            380 non-null    float64\n",
            " 4   turystyka           380 non-null    int64  \n",
            " 5   wynagrodzenie       380 non-null    float64\n",
            " 6   bezrobocie          380 non-null    float64\n",
            " 7   odpadyTysTon        380 non-null    float64\n",
            "dtypes: float64(6), int64(1), object(1)\n",
            "memory usage: 23.9+ KB\n"
          ]
        }
      ]
    },
    {
      "cell_type": "code",
      "source": [
        "# Normalizacja nazw w powiaty.shp\n",
        "powiaty['JPT_NAZWA_'] = powiaty['JPT_NAZWA_'].str.replace('powiat ', '', regex=False)\n",
        "powiaty['JPT_NAZWA_'] = powiaty['JPT_NAZWA_'].str.strip().str.lower()\n",
        "\n",
        "# Normalizacja nazw w daneProj3.xlsx\n",
        "df['Nazwa'] = df['Nazwa'].str.replace('Powiat ', '', regex=False)\n",
        "df['Nazwa'] = df['Nazwa'].str.replace('m. ', '', regex=False)\n",
        "df['Nazwa'] = df['Nazwa'].str.replace('st. ', '', regex=False)\n",
        "df['Nazwa'] = df['Nazwa'].str.strip().str.lower()\n"
      ],
      "metadata": {
        "id": "t5XfwK6kigER"
      },
      "execution_count": null,
      "outputs": []
    },
    {
      "cell_type": "markdown",
      "source": [
        "W celu stworzenia macierzy odleglosci potrzebujemy miec kolumne Nazwa w df, dlatego teraz powtorzymy kroki ktore byly wykonane w procesie tworzenia modelu liniowego, aby miec taki sam dataframe tylko z dodatkowa kolumna"
      ],
      "metadata": {
        "id": "BlVxeo49NpNU"
      }
    },
    {
      "cell_type": "code",
      "source": [
        "# Dodanie reszt do DataFrame na podstawie indeksu\n",
        "df['residuals'] = model_filtered.resid\n",
        "df['residuals'] = df['residuals'].fillna(df['residuals'].mean())\n",
        "\n",
        "# Połączenie danych przestrzennych z resztami na podstawie 'Nazwa'\n",
        "powiaty2 = powiaty.merge(df, left_on='JPT_NAZWA_', right_on='Nazwa', how='inner')\n",
        "\n",
        "# Usunięcie duplikatów w powiaty2\n",
        "powiaty2 = powiaty2.drop_duplicates(subset='JPT_NAZWA_').reset_index(drop=True)\n",
        "\n",
        "# Dopasowanie reszt do kolejności powiaty2\n",
        "residuals_aligned = powiaty2['residuals']\n"
      ],
      "metadata": {
        "id": "zWni6E_DmGX9"
      },
      "execution_count": null,
      "outputs": []
    },
    {
      "cell_type": "code",
      "source": [
        "# 4. Tworzenie macierzy wag przestrzennych Queen\n",
        "w = Queen.from_dataframe(powiaty2)\n",
        "w.transform = 'R'"
      ],
      "metadata": {
        "id": "hrsRuMtfY4WU",
        "colab": {
          "base_uri": "https://localhost:8080/"
        },
        "outputId": "a867216a-ca08-4e93-c357-04022bdbb7f4"
      },
      "execution_count": null,
      "outputs": [
        {
          "output_type": "stream",
          "name": "stderr",
          "text": [
            "<ipython-input-109-dcecf96ba24d>:2: FutureWarning: `use_index` defaults to False but will default to True in future. Set True/False directly to control this behavior and silence this warning\n",
            "  w = Queen.from_dataframe(powiaty2)\n"
          ]
        }
      ]
    },
    {
      "cell_type": "code",
      "source": [
        " #5 . Obliczanie wskaźników przestrzennych dla reszt modelu OLS\n",
        "\n",
        "# a. Moran's I dla reszt\n",
        "moran_residuals = Moran(residuals, w, permutations=999)\n",
        "print('Wskaźnik Moran\\'a I dla reszt:', moran_residuals.I)\n",
        "print('p-value (permutacje) dla reszt:', moran_residuals.p_sim)\n",
        "print('Z-score (permutacje) dla reszt:', moran_residuals.z_sim)\n",
        "\n",
        "# b. Geary's C dla reszt\n",
        "geary_residuals = Geary(residuals, w, permutations=999)\n",
        "print(\"Geary's C dla reszt:\", geary_residuals.C)\n",
        "print(\"Geary's C p-value (permutacje) dla reszt:\", geary_residuals.p_sim)\n",
        "\n",
        "# c. Getis-Ord G dla reszt\n",
        "getis_ord_residuals = G(residuals, w, permutations=999)\n",
        "print(\"Getis-Ord G dla reszt:\", getis_ord_residuals.G)\n",
        "print(\"Getis-Ord G p-value (permutacje) dla reszt:\", getis_ord_residuals.p_sim)\n"
      ],
      "metadata": {
        "colab": {
          "base_uri": "https://localhost:8080/"
        },
        "id": "sx2QuxyzuiQR",
        "outputId": "210ec5f4-9644-4c6b-b069-b392ffa0858f"
      },
      "execution_count": null,
      "outputs": [
        {
          "output_type": "stream",
          "name": "stdout",
          "text": [
            "Wskaźnik Moran'a I dla reszt: -0.053119854099342965\n",
            "p-value (permutacje) dla reszt: 0.01\n",
            "Z-score (permutacje) dla reszt: -1.8107841838551764\n",
            "Geary's C dla reszt: 1.2686023159804458\n",
            "Geary's C p-value (permutacje) dla reszt: 0.057\n",
            "Getis-Ord G dla reszt: 0.191680924476207\n",
            "Getis-Ord G p-value (permutacje) dla reszt: 0.051\n"
          ]
        }
      ]
    },
    {
      "cell_type": "code",
      "source": [
        "# 8. Korelogram przestrzenny\n",
        "lags = range(1, 5)\n",
        "moran_stats = []\n",
        "\n",
        "for lag in lags:\n",
        "    w_lag = weights.KNN.from_dataframe(powiaty2, k=lag)\n",
        "    w_lag.transform = 'R'\n",
        "    moran_lag = Moran(residuals, w_lag, permutations=999)\n",
        "    moran_stats.append(moran_lag.I)\n",
        "\n",
        "plt.plot(lags, moran_stats, marker='o')\n",
        "plt.title('Korelogram przestrzenny')\n",
        "plt.xlabel('Rząd sąsiedztwa')\n",
        "plt.ylabel('Wartość statystyki Morana I')\n",
        "plt.show()"
      ],
      "metadata": {
        "id": "AYUU-CQMZMaO",
        "colab": {
          "base_uri": "https://localhost:8080/",
          "height": 583
        },
        "outputId": "47016691-d3ce-4c65-f687-9edfcc4272dd"
      },
      "execution_count": null,
      "outputs": [
        {
          "output_type": "stream",
          "name": "stderr",
          "text": [
            "/usr/local/lib/python3.10/dist-packages/libpysal/weights/distance.py:153: UserWarning: The weights matrix is not fully connected: \n",
            " There are 109 disconnected components.\n",
            "  W.__init__(self, neighbors, id_order=ids, **kwargs)\n",
            "/usr/local/lib/python3.10/dist-packages/libpysal/weights/distance.py:153: UserWarning: The weights matrix is not fully connected: \n",
            " There are 2 disconnected components.\n",
            "  W.__init__(self, neighbors, id_order=ids, **kwargs)\n"
          ]
        },
        {
          "output_type": "display_data",
          "data": {
            "text/plain": [
              "<Figure size 640x480 with 1 Axes>"
            ],
            "image/png": "[encoded data removed]"
          },
          "metadata": {}
        }
      ]
    },
    {
      "cell_type": "code",
      "source": [
        "# 9. Wykres rozproszenia\n",
        "fig, ax = moran_scatterplot(moran_perm, p=0.05)\n",
        "ax.set_xlabel('Standaryzowane reszty modelu OLS')\n",
        "ax.set_ylabel('Przestrzennie ważone standaryzowane reszty modelu OLS')\n",
        "plt.title('Wykres rozproszenia')\n",
        "plt.show()"
      ],
      "metadata": {
        "id": "dh2OGfBQbYka",
        "colab": {
          "base_uri": "https://localhost:8080/",
          "height": 723
        },
        "outputId": "68f2fa60-4ed1-45bf-ce1b-0f82c0ba509c"
      },
      "execution_count": null,
      "outputs": [
        {
          "output_type": "stream",
          "name": "stderr",
          "text": [
            "/usr/local/lib/python3.10/dist-packages/splot/_viz_esda_mpl.py:131: UserWarning: `p` is only used for plotting `esda.moran.Moran_Local`\n",
            "or `Moran_Local_BV` objects\n",
            "  warnings.warn(\n"
          ]
        },
        {
          "output_type": "display_data",
          "data": {
            "text/plain": [
              "<Figure size 700x700 with 1 Axes>"
            ],
            "image/png": "[encoded data removed]"
          },
          "metadata": {}
        }
      ]
    },
    {
      "cell_type": "markdown",
      "source": [
        "# modele SAR i SEM"
      ],
      "metadata": {
        "id": "ph83h3zfbag_"
      }
    },
    {
      "cell_type": "code",
      "source": [
        "# przygotowanie danych do uzycia w modelach SAR, SEM\n",
        "columns_to_drop = ['gml_id', 'JPT_ORGAN_', 'JPT_KOD__1', 'JPT_NAZWA1', 'JPT_KJ_I_2', 'JPT_OPIS', 'JPT_KJ_I_3']\n",
        "powiaty2 = powiaty2.drop(columns=columns_to_drop, errors='ignore')"
      ],
      "metadata": {
        "id": "YSaM-HgA67qM"
      },
      "execution_count": null,
      "outputs": []
    },
    {
      "cell_type": "code",
      "source": [
        "X_aligned = powiaty2.drop(columns=['odpadyTysTon', 'Nazwa', 'residuals'], errors='ignore')\n",
        "X_aligned = X_aligned.select_dtypes(include=[np.number])\n",
        "\n",
        "y_aligned = powiaty2['odpadyTysTon']"
      ],
      "metadata": {
        "id": "KJmKmsIG0mSR"
      },
      "execution_count": null,
      "outputs": []
    },
    {
      "cell_type": "code",
      "source": [
        "# Model SAR\n",
        "sar_model = ML_Lag(y_aligned.values, X_aligned.values, w, name_y='odpadyTysTon', name_x=list(X_aligned.columns))\n",
        "print(sar_model.summary)"
      ],
      "metadata": {
        "id": "h4jbzQUkbcTr",
        "colab": {
          "base_uri": "https://localhost:8080/"
        },
        "outputId": "acb85271-6677-4088-d264-c0bb06eef29e"
      },
      "execution_count": null,
      "outputs": [
        {
          "output_type": "stream",
          "name": "stdout",
          "text": [
            "REGRESSION RESULTS\n",
            "------------------\n",
            "\n",
            "SUMMARY OF OUTPUT: MAXIMUM LIKELIHOOD SPATIAL LAG (METHOD = FULL)\n",
            "-----------------------------------------------------------------\n",
            "Data set            :     unknown\n",
            "Weights matrix      :     unknown\n",
            "Dependent Variable  :odpadyTysTon                Number of Observations:         370\n",
            "Mean dependent var  :     35.6035                Number of Variables   :           8\n",
            "S.D. dependent var  :     54.0573                Degrees of Freedom    :         362\n",
            "Pseudo R-squared    :      0.0071\n",
            "Spatial Pseudo R-squared:  0.0060\n",
            "Log likelihood      :  -1999.5482\n",
            "Sigma-square ML     :   2893.5822                Akaike info criterion :    4015.096\n",
            "S.E of regression   :     53.7920                Schwarz criterion     :    4046.404\n",
            "\n",
            "------------------------------------------------------------------------------------\n",
            "            Variable     Coefficient       Std.Error     z-Statistic     Probability\n",
            "------------------------------------------------------------------------------------\n",
            "            CONSTANT        51.41607        28.53009         1.80217         0.07152\n",
            "  gestoscZaludnienia        -0.00018         0.00781        -0.02322         0.98148\n",
            "          ludnoscTys         0.02540         0.02950         0.86093         0.38928\n",
            "            wskUrban         0.09171         0.16710         0.54881         0.58313\n",
            "           turystyka        -0.04738         0.06005        -0.78907         0.43007\n",
            "       wynagrodzenie        -0.00329         0.00472        -0.69669         0.48599\n",
            "          bezrobocie        -0.17772         0.78185        -0.22731         0.82018\n",
            "      W_odpadyTysTon        -0.00690         0.01559        -0.44256         0.65809\n",
            "------------------------------------------------------------------------------------\n",
            "\n",
            "SPATIAL LAG MODEL IMPACTS\n",
            "Impacts computed using the 'simple' method.\n",
            "            Variable         Direct        Indirect          Total\n",
            "  gestoscZaludnienia        -0.0002          0.0000         -0.0002\n",
            "          ludnoscTys         0.0254         -0.0002          0.0252\n",
            "            wskUrban         0.0917         -0.0006          0.0911\n",
            "           turystyka        -0.0474          0.0003         -0.0471\n",
            "       wynagrodzenie        -0.0033          0.0000         -0.0033\n",
            "          bezrobocie        -0.1777          0.0012         -0.1765\n",
            "================================ END OF REPORT =====================================\n"
          ]
        },
        {
          "output_type": "stream",
          "name": "stderr",
          "text": [
            "/usr/local/lib/python3.10/dist-packages/spreg/ml_lag.py:683: RuntimeWarning: invalid value encountered in log\n",
            "  jacob = np.log(np.linalg.det(a))\n"
          ]
        }
      ]
    },
    {
      "cell_type": "code",
      "source": [
        "# Model SEM\n",
        "sem_model = ML_Error(y_aligned.values, X_aligned.values, w, name_y='odpadyTysTon', name_x=list(X_aligned.columns))\n",
        "print(\"Model SEM:\")\n",
        "print(sem_model.summary)\n"
      ],
      "metadata": {
        "colab": {
          "base_uri": "https://localhost:8080/"
        },
        "id": "AGnXTT708tFy",
        "outputId": "fa649607-dcb5-4af7-ed55-765178f817a2"
      },
      "execution_count": null,
      "outputs": [
        {
          "output_type": "stream",
          "name": "stdout",
          "text": [
            "Model SEM:\n",
            "REGRESSION RESULTS\n",
            "------------------\n",
            "\n",
            "SUMMARY OF OUTPUT: ML SPATIAL ERROR (METHOD = full)\n",
            "---------------------------------------------------\n",
            "Data set            :     unknown\n",
            "Weights matrix      :     unknown\n",
            "Dependent Variable  :odpadyTysTon                Number of Observations:         370\n",
            "Mean dependent var  :     35.6035                Number of Variables   :           7\n",
            "S.D. dependent var  :     54.0573                Degrees of Freedom    :         363\n",
            "Pseudo R-squared    :      0.0063\n",
            "Log likelihood      :  -1999.4525\n",
            "Sigma-square ML     :   2891.1733                Akaike info criterion :    4012.905\n",
            "S.E of regression   :     53.7696                Schwarz criterion     :    4040.300\n",
            "\n",
            "------------------------------------------------------------------------------------\n",
            "            Variable     Coefficient       Std.Error     z-Statistic     Probability\n",
            "------------------------------------------------------------------------------------\n",
            "            CONSTANT        49.85722        27.98708         1.78144         0.07484\n",
            "  gestoscZaludnienia         0.00007         0.00768         0.00915         0.99270\n",
            "          ludnoscTys         0.02478         0.02917         0.84963         0.39553\n",
            "            wskUrban         0.10525         0.16424         0.64080         0.52165\n",
            "           turystyka        -0.04572         0.05920        -0.77227         0.43995\n",
            "       wynagrodzenie        -0.00344         0.00469        -0.73425         0.46280\n",
            "          bezrobocie        -0.11331         0.76617        -0.14788         0.88243\n",
            "              lambda        -0.01050         0.01655        -0.63457         0.52571\n",
            "------------------------------------------------------------------------------------\n",
            "================================ END OF REPORT =====================================\n"
          ]
        },
        {
          "output_type": "stream",
          "name": "stderr",
          "text": [
            "/usr/local/lib/python3.10/dist-packages/spreg/ml_error.py:183: RuntimeWarning: Method 'bounded' does not support relative tolerance in x; defaulting to absolute tolerance.\n",
            "  res = minimize_scalar(\n",
            "/usr/local/lib/python3.10/dist-packages/spreg/ml_error.py:543: RuntimeWarning: invalid value encountered in log\n",
            "  jacob = np.log(np.linalg.det(a))\n"
          ]
        }
      ]
    },
    {
      "cell_type": "code",
      "source": [
        "# Porównanie modeli\n",
        "print(\"Model OLS: AIC =\", model_filtered.aic)\n",
        "print(\"Model SAR: AIC =\", sar_model.aic)\n",
        "print(\"Model SEM: AIC =\", sem_model.aic)"
      ],
      "metadata": {
        "id": "broYlQktbiek",
        "colab": {
          "base_uri": "https://localhost:8080/"
        },
        "outputId": "60a400b7-b3b6-41ae-fbb0-527804c9cf50"
      },
      "execution_count": null,
      "outputs": [
        {
          "output_type": "stream",
          "name": "stdout",
          "text": [
            "Model OLS: AIC = 4013.297886740655\n",
            "Model SAR: AIC = 4015.0964737687586\n",
            "Model SEM: AIC = 4012.905083668475\n"
          ]
        }
      ]
    },
    {
      "cell_type": "markdown",
      "source": [
        "## **Cel analizy**\n",
        "Sprawdzenie, czy modele SAR (Spatial Autoregressive Model) i SEM (Spatial Error Model) wnoszą istotne ulepszenie w porównaniu z modelem OLS.\n",
        "\n",
        "---\n",
        "\n",
        "## **Kryteria porównania**\n",
        "1. **AIC (Akaike Information Criterion)**:\n",
        "   - Niższa wartość AIC oznacza lepsze dopasowanie modelu przy uwzględnieniu liczby parametrów.\n",
        "\n",
        "---\n",
        "\n",
        "## **Wyniki porównania**\n",
        "| Model      | AIC        |\n",
        "|------------|------------|\n",
        "| **OLS**    | 4013.30    |\n",
        "| **SAR**    | 4015.10    |\n",
        "| **SEM**    | 4012.91    |\n",
        "\n",
        "---\n",
        "\n",
        "## **Interpretacja wyników**\n",
        "1. **Model SAR**:\n",
        "   - Wartość AIC dla SAR (4015.10) jest wyższa niż dla OLS (4013.30), co wskazuje, że model SAR nie poprawia dopasowania w porównaniu do OLS.\n",
        "   - Wyższa wartość AIC oznacza, że model SAR nie jest uzasadniony w tym przypadku.\n",
        "\n",
        "2. **Model SEM**:\n",
        "   - Wartość AIC dla SEM (4012.91) jest minimalnie niższa niż dla OLS (4013.30), co sugeruje, że model SEM może być nieznacznie lepszy od OLS.\n",
        "   - Różnica AIC jest jednak bardzo mała, co może wskazywać na brak istotnych korzyści z wprowadzenia SEM.\n",
        "\n",
        "---\n",
        "\n",
        "## **Wniosek**\n",
        "- Model SAR nie wnosi poprawy w stosunku do OLS, co sugeruje, że w tym przypadku nie ma sensu go wprowadzać.\n",
        "- Model SEM jest minimalnie lepszy od OLS, ale różnica w wartościach AIC jest bardzo mała\n",
        "\n"
      ],
      "metadata": {
        "id": "L2GAe5XCFQ_s"
      }
    },
    {
      "cell_type": "code",
      "source": [
        "warnings.filterwarnings(\"ignore\", category=UserWarning)\n",
        "warnings.filterwarnings(\"ignore\", category=RuntimeWarning)\n",
        "\n",
        "# Podział danych na części\n",
        "split_index = len(X_aligned) // 2\n",
        "X_part1, X_part2 = X_aligned.iloc[:split_index], X_aligned.iloc[split_index:]\n",
        "y_part1, y_part2 = y_aligned.iloc[:split_index], y_aligned.iloc[split_index:]\n",
        "\n",
        "# Tworzenie nowych macierzy wag dla podzbiorów\n",
        "powiaty_part1 = powiaty2.iloc[:split_index]\n",
        "powiaty_part2 = powiaty2.iloc[split_index:]\n",
        "\n",
        "w_part1 = Queen.from_dataframe(powiaty_part1, use_index=False)\n",
        "w_part1.transform = 'B'\n",
        "\n",
        "w_part2 = Queen.from_dataframe(powiaty_part2, use_index=False)\n",
        "w_part2.transform = 'B'\n",
        "\n",
        "# Model SAR dla części danych\n",
        "sar_part1 = ML_Lag(y_part1.values, X_part1.values, w_part1, name_y='odpadyTysTon', name_x=list(X_part1.columns))\n",
        "sar_part2 = ML_Lag(y_part2.values, X_part2.values, w_part2, name_y='odpadyTysTon', name_x=list(X_part2.columns))\n",
        "\n",
        "RSS_sar_full = np.sum(sar_model.u ** 2)\n",
        "RSS_sar_part1 = np.sum(sar_part1.u ** 2)\n",
        "RSS_sar_part2 = np.sum(sar_part2.u ** 2)\n",
        "\n",
        "F_chow_sar = ((RSS_sar_full - (RSS_sar_part1 + RSS_sar_part2)) / len(X_aligned.columns)) / \\\n",
        "             ((RSS_sar_part1 + RSS_sar_part2) / (len(y_aligned) - 2 * len(X_aligned.columns)))\n",
        "df_num = len(X_aligned.columns)  # Liczba parametrów\n",
        "df_den = len(y_aligned) - 2 * len(X_aligned.columns)  # Liczba stopni swobody\n",
        "p_value_sar = 1 - f.cdf(F_chow_sar, df_num, df_den)\n",
        "\n",
        "# Wynik dla SAR\n",
        "print(f\"Statystyka testu Chowa (SAR): {F_chow_sar:.4f}, p-value: {p_value_sar:.4f}\")\n",
        "\n",
        "# Test Chowa dla SEM\n",
        "sem_part1 = ML_Error(y_part1.values.reshape(-1, 1), X_part1.values, w_part1, name_y='odpadyTysTon', name_x=list(X_part1.columns))\n",
        "sem_part2 = ML_Error(y_part2.values.reshape(-1, 1), X_part2.values, w_part2, name_y='odpadyTysTon', name_x=list(X_part2.columns))\n",
        "\n",
        "RSS_sem_full = np.sum(sem_model.u ** 2)\n",
        "RSS_sem_part1 = np.sum(sem_part1.u ** 2)\n",
        "RSS_sem_part2 = np.sum(sem_part2.u ** 2)\n",
        "\n",
        "F_chow_sem = ((RSS_sem_full - (RSS_sem_part1 + RSS_sem_part2)) / len(X_aligned.columns)) / \\\n",
        "             ((RSS_sem_part1 + RSS_sem_part2) / (len(y_aligned) - 2 * len(X_aligned.columns)))\n",
        "p_value_sem = 1 - f.cdf(F_chow_sem, df_num, df_den)\n",
        "\n",
        "# Wynik dla SEM\n",
        "print(f\"Statystyka testu Chowa (SEM): {F_chow_sem:.4f}, p-value: {p_value_sem:.4f}\")"
      ],
      "metadata": {
        "colab": {
          "base_uri": "https://localhost:8080/"
        },
        "id": "z62pGln7YqOP",
        "outputId": "5d9a46c6-123e-4428-9fb7-fa61a6111436"
      },
      "execution_count": null,
      "outputs": [
        {
          "output_type": "stream",
          "name": "stdout",
          "text": [
            "Statystyka testu Chowa (SAR): 1.3524, p-value: 0.2331\n",
            "Statystyka testu Chowa (SEM): 1.0343, p-value: 0.4026\n"
          ]
        }
      ]
    },
    {
      "cell_type": "markdown",
      "source": [
        "**Test Chowa (Stabilność parametrów)**\n",
        "\n",
        "### Hipotezy:\n",
        "- **H₀**: Parametry modelu są stabilne w obu podzbiorach danych (brak różnic między grupami).\n",
        "- **H₁**: Parametry modelu różnią się między podzbiorami danych (model nie jest stabilny w obu grupach).\n",
        "\n",
        "### Wyniki:\n",
        "- **Statystyka testu Chowa (SAR)**: \\( F = 1.3524 \\), \\( p-value = 0.2331 \\)\n",
        "- **Statystyka testu Chowa (SEM)**: \\( F = 1.0343 \\), \\( p-value = 0.4026 \\)\n",
        "\n",
        "### Interpretacja:\n",
        "- Dla obu modeli p-value > 0,5, co oznacza brak podstaw do odrzucenia hipotezy zerowej.\n",
        "- Parametry modeli SAR i SEM są stabilne między podzbiorami danych, co świadczy o ich poprawnej specyfikacji i braku istotnych różnic między grupami.\n",
        "\n",
        "---"
      ],
      "metadata": {
        "id": "HLsduhTuEJ34"
      }
    },
    {
      "cell_type": "code",
      "source": [
        "# 13. Testy heteroskedastyczności\n",
        "from scipy.stats import levene\n",
        "\n",
        "# Podział reszt SAR na dwie grupy\n",
        "mid_index = len(sar_model.u) // 2\n",
        "group1_sar = sar_model.u[:mid_index]\n",
        "group2_sar = sar_model.u[mid_index:]\n",
        "\n",
        "# Test Levene'a dla SAR\n",
        "levene_sar = levene(group1_sar, group2_sar)\n",
        "print(\"Levene SAR : p-value:\", levene_sar.pvalue)\n",
        "\n",
        "# Podział reszt SEM na dwie grupy\n",
        "mid_index = len(sem_model.u) // 2\n",
        "group1_sem = sem_model.u[:mid_index]\n",
        "group2_sem = sem_model.u[mid_index:]\n",
        "\n",
        "# Test Levene'a dla SEM\n",
        "levene_sem = levene(group1_sem, group2_sem)\n",
        "print(\"Levene SEM: p-value:\", levene_sem.pvalue)\n"
      ],
      "metadata": {
        "id": "VwcHTEhTZPNx",
        "colab": {
          "base_uri": "https://localhost:8080/"
        },
        "outputId": "1ffbeec9-5142-4572-c5b3-50aaa36a118a"
      },
      "execution_count": null,
      "outputs": [
        {
          "output_type": "stream",
          "name": "stdout",
          "text": [
            "Levene SAR : p-value: [0.6311837]\n",
            "Levene SEM: p-value: [0.62188341]\n"
          ]
        }
      ]
    },
    {
      "cell_type": "markdown",
      "source": [
        " **Test Levene'a (Homoskedastyczność)**\n",
        "\n",
        "### Hipotezy:\n",
        "- **H₀**: Wariancje reszt modelu są równe we wszystkich porównywanych grupach (homoskedastyczność).\n",
        "- **H₁**: Wariancje reszt modelu nie są równe w co najmniej dwóch grupach (heteroskedastyczność).\n",
        "\n",
        "### Wyniki:\n",
        "- **Levene SAR**: \\( p-value = 0.6312 \\)\n",
        "- **Levene SEM**: \\( p-value = 0.6219 \\)\n",
        "\n",
        "### Interpretacja:\n",
        "- Dla obu modeli p-value > 0.05, co oznacza brak podstaw do odrzucenia hipotezy zerowej.\n",
        "- Możemy przyjąć, że wariancje reszt modelu SAR i SEM są jednorodne (brak heteroskedastyczności).\n"
      ],
      "metadata": {
        "id": "rimMULNhDpsc"
      }
    },
    {
      "cell_type": "code",
      "source": [
        "# 14. Test normalności reszt\n",
        "normality_sar = normaltest(sar_model.u)\n",
        "normality_sem = normaltest(sem_model.u)\n",
        "print(\"Normalność reszt SAR: p-value:\", normality_sar.pvalue)\n",
        "print(\"Normalność reszt SEM: p-value:\", normality_sem.pvalue)"
      ],
      "metadata": {
        "colab": {
          "base_uri": "https://localhost:8080/"
        },
        "id": "iNh_2AskZTRT",
        "outputId": "fb31f35b-2dcc-41cd-b848-2e6872849df0"
      },
      "execution_count": null,
      "outputs": [
        {
          "output_type": "stream",
          "name": "stdout",
          "text": [
            "Normalność reszt SAR: p-value: [3.28192338e-126]\n",
            "Normalność reszt SEM: p-value: [3.27644857e-126]\n"
          ]
        }
      ]
    },
    {
      "cell_type": "markdown",
      "source": [
        "## **Cel testu**\n",
        "Sprawdzenie, czy reszty modeli SAR i SEM są zgodne z rozkładem normalnym. Normalność reszt jest istotnym założeniem dla poprawnej specyfikacji modelu i interpretacji wyników.\n",
        "\n",
        "---\n",
        "\n",
        "## **Hipotezy**\n",
        "- **H₀**: Reszty modelu pochodzą z rozkładu normalnego.\n",
        "- **H₁**: Reszty modelu nie pochodzą z rozkładu normalnego.\n",
        "\n",
        "---\n",
        "\n",
        "## **Wyniki testu**\n",
        "- **Normalność reszt SAR**: p-value = 3.2819 * 10^-126\n",
        "- **Normalność reszt SEM**: p-value = 3.2764 * 10^-126\n",
        "\n",
        "P-value bardzo bliskie zera, najprawdopodobniej może byc to powiązane z występowaniem wartości odstających. Dodatkowo dane mogą zawierać zależności nieliniowe nieuwzględnione w modelu."
      ],
      "metadata": {
        "id": "tFlkzvjSAGQK"
      }
    },
    {
      "cell_type": "code",
      "source": [
        "plt.hist(sar_model.u, bins=30, edgecolor='k', alpha=0.7)\n",
        "plt.title('Histogram reszt SAR')\n",
        "plt.show()\n"
      ],
      "metadata": {
        "colab": {
          "base_uri": "https://localhost:8080/",
          "height": 452
        },
        "id": "yNc3s2YuAogM",
        "outputId": "85885aa2-e6b1-4769-fb62-edaf1bf68bc6"
      },
      "execution_count": null,
      "outputs": [
        {
          "output_type": "display_data",
          "data": {
            "text/plain": [
              "<Figure size 640x480 with 1 Axes>"
            ],
            "image/png": "[encoded data removed]"
          },
          "metadata": {}
        }
      ]
    },
    {
      "cell_type": "code",
      "source": [
        "plt.hist(sem_model.u, bins=30, edgecolor='k', alpha=0.7)\n",
        "plt.title('Histogram reszt SEM')\n",
        "plt.show()\n"
      ],
      "metadata": {
        "colab": {
          "base_uri": "https://localhost:8080/",
          "height": 452
        },
        "id": "oMzPLjPaAuqp",
        "outputId": "2fed8b8d-1ad7-4142-c52c-bd3455daa52d"
      },
      "execution_count": null,
      "outputs": [
        {
          "output_type": "display_data",
          "data": {
            "text/plain": [
              "<Figure size 640x480 with 1 Axes>"
            ],
            "image/png": "[encoded data removed]"
          },
          "metadata": {}
        }
      ]
    }
  ]
}