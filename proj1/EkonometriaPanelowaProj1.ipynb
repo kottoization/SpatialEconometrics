{
  "nbformat": 4,
  "nbformat_minor": 0,
  "metadata": {
    "colab": {
      "provenance": []
    },
    "kernelspec": {
      "name": "python3",
      "display_name": "Python 3"
    },
    "language_info": {
      "name": "python"
    }
  },
  "cells": [
    {
      "cell_type": "markdown",
      "source": [
        "# Ekonometria Przestrzenna\n",
        "\n",
        "Przeprowadzić analizę autokorelacji przestrzennej wybranej zmiennej. W badaniu uwzględnić\n",
        "przedstawione na wykładzie miary autokorelacji przestrzennej. Na ich podstawie przeprowadzić\n",
        "również testy istotności. Rozważyć różne wersje testów. W obliczeniach uwzględnić różne\n",
        "macierze wag, np. wyznaczone na podstawie różnych macierzy sąsiedztwa, macierzy odległości\n",
        "itp. Podać interpretację uzyskanych wyników.\n",
        "Badanie przeprowadzić dla danych na poziomie województw i powiatów (razem oraz osobno dla\n",
        "powiatów z dwóch wybranych województw)."
      ],
      "metadata": {
        "id": "seTVdBkeyb_o"
      }
    },
    {
      "cell_type": "code",
      "source": [
        "!pip install pysal"
      ],
      "metadata": {
        "id": "wo2iXfX11Ymd",
        "colab": {
          "base_uri": "https://localhost:8080/"
        },
        "outputId": "2314ffcf-f5ee-44ff-d051-6bc28128a5c8"
      },
      "execution_count": null,
      "outputs": [
        {
          "output_type": "stream",
          "name": "stdout",
          "text": [
            "Collecting pysal\n",
            "  Downloading pysal-24.7-py3-none-any.whl.metadata (16 kB)\n",
            "Requirement already satisfied: beautifulsoup4>=4.10 in /usr/local/lib/python3.10/dist-packages (from pysal) (4.12.3)\n",
            "Requirement already satisfied: geopandas>=0.10.0 in /usr/local/lib/python3.10/dist-packages (from pysal) (1.0.1)\n",
            "Requirement already satisfied: numpy>=1.22 in /usr/local/lib/python3.10/dist-packages (from pysal) (1.26.4)\n",
            "Requirement already satisfied: packaging>=22 in /usr/local/lib/python3.10/dist-packages (from pysal) (24.1)\n",
            "Requirement already satisfied: pandas>=1.4 in /usr/local/lib/python3.10/dist-packages (from pysal) (2.2.2)\n",
            "Requirement already satisfied: platformdirs>=2.0.2 in /usr/local/lib/python3.10/dist-packages (from pysal) (4.3.6)\n",
            "Requirement already satisfied: requests>=2.27 in /usr/local/lib/python3.10/dist-packages (from pysal) (2.32.3)\n",
            "Requirement already satisfied: scipy>=1.8 in /usr/local/lib/python3.10/dist-packages (from pysal) (1.13.1)\n",
            "Requirement already satisfied: shapely>=2.0.1 in /usr/local/lib/python3.10/dist-packages (from pysal) (2.0.6)\n",
            "Requirement already satisfied: scikit-learn>=1.1 in /usr/local/lib/python3.10/dist-packages (from pysal) (1.5.2)\n",
            "Collecting libpysal>=4.12.0 (from pysal)\n",
            "  Downloading libpysal-4.12.1-py3-none-any.whl.metadata (4.8 kB)\n",
            "Collecting access>=1.1.9 (from pysal)\n",
            "  Downloading access-1.1.9-py3-none-any.whl.metadata (2.4 kB)\n",
            "Collecting esda>=2.6.0 (from pysal)\n",
            "  Downloading esda-2.6.0-py3-none-any.whl.metadata (2.0 kB)\n",
            "Collecting giddy>=2.3.5 (from pysal)\n",
            "  Downloading giddy-2.3.5-py3-none-any.whl.metadata (6.4 kB)\n",
            "Collecting inequality>=1.0.1 (from pysal)\n",
            "  Downloading inequality-1.0.1-py3-none-any.whl.metadata (3.3 kB)\n",
            "Collecting pointpats>=2.5.0 (from pysal)\n",
            "  Downloading pointpats-2.5.1-py3-none-any.whl.metadata (4.7 kB)\n",
            "Collecting segregation>=2.5 (from pysal)\n",
            "  Downloading segregation-2.5-py3-none-any.whl.metadata (2.2 kB)\n",
            "Collecting spaghetti>=1.7.6 (from pysal)\n",
            "  Downloading spaghetti-1.7.6-py3-none-any.whl.metadata (12 kB)\n",
            "Collecting mgwr>=2.2.1 (from pysal)\n",
            "  Downloading mgwr-2.2.1-py3-none-any.whl.metadata (1.5 kB)\n",
            "Collecting momepy>=0.7.2 (from pysal)\n",
            "  Downloading momepy-0.8.1-py3-none-any.whl.metadata (1.4 kB)\n",
            "Collecting spglm>=1.1.0 (from pysal)\n",
            "  Downloading spglm-1.1.0-py3-none-any.whl.metadata (3.9 kB)\n",
            "Collecting spint>=1.0.7 (from pysal)\n",
            "  Downloading spint-1.0.7.tar.gz (28 kB)\n",
            "  Preparing metadata (setup.py) ... \u001b[?25l\u001b[?25hdone\n",
            "Collecting spreg>=1.5.0 (from pysal)\n",
            "  Downloading spreg-1.7-py3-none-any.whl.metadata (1.7 kB)\n",
            "Collecting spvcm>=0.3.0 (from pysal)\n",
            "  Downloading spvcm-0.3.0.tar.gz (5.7 MB)\n",
            "\u001b[2K     \u001b[90m━━━━━━━━━━━━━━━━━━━━━━━━━━━━━━━━━━━━━━━━\u001b[0m \u001b[32m5.7/5.7 MB\u001b[0m \u001b[31m73.5 MB/s\u001b[0m eta \u001b[36m0:00:00\u001b[0m\n",
            "\u001b[?25h  Preparing metadata (setup.py) ... \u001b[?25l\u001b[?25hdone\n",
            "Collecting tobler>=0.11.2 (from pysal)\n",
            "  Downloading tobler-0.11.3-py3-none-any.whl.metadata (1.9 kB)\n",
            "Collecting mapclassify>=2.7.0 (from pysal)\n",
            "  Downloading mapclassify-2.8.1-py3-none-any.whl.metadata (2.8 kB)\n",
            "Collecting splot>=1.1.5.post1 (from pysal)\n",
            "  Downloading splot-1.1.7-py3-none-any.whl.metadata (8.9 kB)\n",
            "Collecting spopt>=0.6.1 (from pysal)\n",
            "  Downloading spopt-0.6.1-py3-none-any.whl.metadata (10 kB)\n",
            "Requirement already satisfied: soupsieve>1.2 in /usr/local/lib/python3.10/dist-packages (from beautifulsoup4>=4.10->pysal) (2.6)\n",
            "Requirement already satisfied: pyogrio>=0.7.2 in /usr/local/lib/python3.10/dist-packages (from geopandas>=0.10.0->pysal) (0.10.0)\n",
            "Requirement already satisfied: pyproj>=3.3.0 in /usr/local/lib/python3.10/dist-packages (from geopandas>=0.10.0->pysal) (3.7.0)\n",
            "Collecting quantecon>=0.4.7 (from giddy>=2.3.5->pysal)\n",
            "  Downloading quantecon-0.7.2-py3-none-any.whl.metadata (4.9 kB)\n",
            "Requirement already satisfied: networkx>=2.7 in /usr/local/lib/python3.10/dist-packages (from mapclassify>=2.7.0->pysal) (3.4.2)\n",
            "Requirement already satisfied: tqdm>=4.63.0 in /usr/local/lib/python3.10/dist-packages (from momepy>=0.7.2->pysal) (4.66.6)\n",
            "Requirement already satisfied: python-dateutil>=2.8.2 in /usr/local/lib/python3.10/dist-packages (from pandas>=1.4->pysal) (2.8.2)\n",
            "Requirement already satisfied: pytz>=2020.1 in /usr/local/lib/python3.10/dist-packages (from pandas>=1.4->pysal) (2024.2)\n",
            "Requirement already satisfied: tzdata>=2022.7 in /usr/local/lib/python3.10/dist-packages (from pandas>=1.4->pysal) (2024.2)\n",
            "Requirement already satisfied: matplotlib>=3.6 in /usr/local/lib/python3.10/dist-packages (from pointpats>=2.5.0->pysal) (3.8.0)\n",
            "Requirement already satisfied: charset-normalizer<4,>=2 in /usr/local/lib/python3.10/dist-packages (from requests>=2.27->pysal) (3.4.0)\n",
            "Requirement already satisfied: idna<4,>=2.5 in /usr/local/lib/python3.10/dist-packages (from requests>=2.27->pysal) (3.10)\n",
            "Requirement already satisfied: urllib3<3,>=1.21.1 in /usr/local/lib/python3.10/dist-packages (from requests>=2.27->pysal) (2.2.3)\n",
            "Requirement already satisfied: certifi>=2017.4.17 in /usr/local/lib/python3.10/dist-packages (from requests>=2.27->pysal) (2024.8.30)\n",
            "Requirement already satisfied: joblib>=1.2.0 in /usr/local/lib/python3.10/dist-packages (from scikit-learn>=1.1->pysal) (1.4.2)\n",
            "Requirement already satisfied: threadpoolctl>=3.1.0 in /usr/local/lib/python3.10/dist-packages (from scikit-learn>=1.1->pysal) (3.5.0)\n",
            "Collecting deprecation (from segregation>=2.5->pysal)\n",
            "  Downloading deprecation-2.1.0-py2.py3-none-any.whl.metadata (4.6 kB)\n",
            "Requirement already satisfied: seaborn in /usr/local/lib/python3.10/dist-packages (from segregation>=2.5->pysal) (0.13.2)\n",
            "Requirement already satisfied: numba in /usr/local/lib/python3.10/dist-packages (from segregation>=2.5->pysal) (0.60.0)\n",
            "Collecting rtree>=1.0 (from spaghetti>=1.7.6->pysal)\n",
            "  Downloading Rtree-1.3.0-py3-none-manylinux2014_x86_64.manylinux_2_17_x86_64.whl.metadata (2.1 kB)\n",
            "Collecting pulp>=2.7 (from spopt>=0.6.1->pysal)\n",
            "  Downloading PuLP-2.9.0-py3-none-any.whl.metadata (5.4 kB)\n",
            "Collecting rasterio (from tobler>=0.11.2->pysal)\n",
            "  Downloading rasterio-1.4.2-cp310-cp310-manylinux_2_17_x86_64.manylinux2014_x86_64.whl.metadata (9.1 kB)\n",
            "Requirement already satisfied: statsmodels in /usr/local/lib/python3.10/dist-packages (from tobler>=0.11.2->pysal) (0.14.4)\n",
            "Collecting rasterstats (from tobler>=0.11.2->pysal)\n",
            "  Downloading rasterstats-0.20.0-py3-none-any.whl.metadata (4.2 kB)\n",
            "Requirement already satisfied: contourpy>=1.0.1 in /usr/local/lib/python3.10/dist-packages (from matplotlib>=3.6->pointpats>=2.5.0->pysal) (1.3.0)\n",
            "Requirement already satisfied: cycler>=0.10 in /usr/local/lib/python3.10/dist-packages (from matplotlib>=3.6->pointpats>=2.5.0->pysal) (0.12.1)\n",
            "Requirement already satisfied: fonttools>=4.22.0 in /usr/local/lib/python3.10/dist-packages (from matplotlib>=3.6->pointpats>=2.5.0->pysal) (4.54.1)\n",
            "Requirement already satisfied: kiwisolver>=1.0.1 in /usr/local/lib/python3.10/dist-packages (from matplotlib>=3.6->pointpats>=2.5.0->pysal) (1.4.7)\n",
            "Requirement already satisfied: pillow>=6.2.0 in /usr/local/lib/python3.10/dist-packages (from matplotlib>=3.6->pointpats>=2.5.0->pysal) (10.4.0)\n",
            "Requirement already satisfied: pyparsing>=2.3.1 in /usr/local/lib/python3.10/dist-packages (from matplotlib>=3.6->pointpats>=2.5.0->pysal) (3.2.0)\n",
            "Requirement already satisfied: six>=1.5 in /usr/local/lib/python3.10/dist-packages (from python-dateutil>=2.8.2->pandas>=1.4->pysal) (1.16.0)\n",
            "Requirement already satisfied: sympy in /usr/local/lib/python3.10/dist-packages (from quantecon>=0.4.7->giddy>=2.3.5->pysal) (1.13.1)\n",
            "Requirement already satisfied: llvmlite<0.44,>=0.43.0dev0 in /usr/local/lib/python3.10/dist-packages (from numba->segregation>=2.5->pysal) (0.43.0)\n",
            "Collecting affine (from rasterio->tobler>=0.11.2->pysal)\n",
            "  Downloading affine-2.4.0-py3-none-any.whl.metadata (4.0 kB)\n",
            "Requirement already satisfied: attrs in /usr/local/lib/python3.10/dist-packages (from rasterio->tobler>=0.11.2->pysal) (24.2.0)\n",
            "Requirement already satisfied: click>=4.0 in /usr/local/lib/python3.10/dist-packages (from rasterio->tobler>=0.11.2->pysal) (8.1.7)\n",
            "Collecting cligj>=0.5 (from rasterio->tobler>=0.11.2->pysal)\n",
            "  Downloading cligj-0.7.2-py3-none-any.whl.metadata (5.0 kB)\n",
            "Collecting click-plugins (from rasterio->tobler>=0.11.2->pysal)\n",
            "  Downloading click_plugins-1.1.1-py2.py3-none-any.whl.metadata (6.4 kB)\n",
            "Collecting fiona (from rasterstats->tobler>=0.11.2->pysal)\n",
            "  Downloading fiona-1.10.1-cp310-cp310-manylinux_2_17_x86_64.manylinux2014_x86_64.whl.metadata (56 kB)\n",
            "\u001b[2K     \u001b[90m━━━━━━━━━━━━━━━━━━━━━━━━━━━━━━━━━━━━━━━━\u001b[0m \u001b[32m56.6/56.6 kB\u001b[0m \u001b[31m5.2 MB/s\u001b[0m eta \u001b[36m0:00:00\u001b[0m\n",
            "\u001b[?25hCollecting simplejson (from rasterstats->tobler>=0.11.2->pysal)\n",
            "  Downloading simplejson-3.19.3-cp310-cp310-manylinux_2_5_x86_64.manylinux1_x86_64.manylinux_2_17_x86_64.manylinux2014_x86_64.whl.metadata (3.2 kB)\n",
            "Requirement already satisfied: patsy>=0.5.6 in /usr/local/lib/python3.10/dist-packages (from statsmodels->tobler>=0.11.2->pysal) (0.5.6)\n",
            "Requirement already satisfied: mpmath<1.4,>=1.1.0 in /usr/local/lib/python3.10/dist-packages (from sympy->quantecon>=0.4.7->giddy>=2.3.5->pysal) (1.3.0)\n",
            "Downloading pysal-24.7-py3-none-any.whl (17 kB)\n",
            "Downloading access-1.1.9-py3-none-any.whl (21 kB)\n",
            "Downloading esda-2.6.0-py3-none-any.whl (135 kB)\n",
            "\u001b[2K   \u001b[90m━━━━━━━━━━━━━━━━━━━━━━━━━━━━━━━━━━━━━━━━\u001b[0m \u001b[32m135.4/135.4 kB\u001b[0m \u001b[31m14.0 MB/s\u001b[0m eta \u001b[36m0:00:00\u001b[0m\n",
            "\u001b[?25hDownloading giddy-2.3.5-py3-none-any.whl (61 kB)\n",
            "\u001b[2K   \u001b[90m━━━━━━━━━━━━━━━━━━━━━━━━━━━━━━━━━━━━━━━━\u001b[0m \u001b[32m61.1/61.1 kB\u001b[0m \u001b[31m5.2 MB/s\u001b[0m eta \u001b[36m0:00:00\u001b[0m\n",
            "\u001b[?25hDownloading inequality-1.0.1-py3-none-any.whl (15 kB)\n",
            "Downloading libpysal-4.12.1-py3-none-any.whl (2.8 MB)\n",
            "\u001b[2K   \u001b[90m━━━━━━━━━━━━━━━━━━━━━━━━━━━━━━━━━━━━━━━━\u001b[0m \u001b[32m2.8/2.8 MB\u001b[0m \u001b[31m61.6 MB/s\u001b[0m eta \u001b[36m0:00:00\u001b[0m\n",
            "\u001b[?25hDownloading mapclassify-2.8.1-py3-none-any.whl (59 kB)\n",
            "\u001b[2K   \u001b[90m━━━━━━━━━━━━━━━━━━━━━━━━━━━━━━━━━━━━━━━━\u001b[0m \u001b[32m59.1/59.1 kB\u001b[0m \u001b[31m5.0 MB/s\u001b[0m eta \u001b[36m0:00:00\u001b[0m\n",
            "\u001b[?25hDownloading mgwr-2.2.1-py3-none-any.whl (47 kB)\n",
            "\u001b[2K   \u001b[90m━━━━━━━━━━━━━━━━━━━━━━━━━━━━━━━━━━━━━━━━\u001b[0m \u001b[32m47.9/47.9 kB\u001b[0m \u001b[31m4.8 MB/s\u001b[0m eta \u001b[36m0:00:00\u001b[0m\n",
            "\u001b[?25hDownloading momepy-0.8.1-py3-none-any.whl (347 kB)\n",
            "\u001b[2K   \u001b[90m━━━━━━━━━━━━━━━━━━━━━━━━━━━━━━━━━━━━━━━━\u001b[0m \u001b[32m347.4/347.4 kB\u001b[0m \u001b[31m22.4 MB/s\u001b[0m eta \u001b[36m0:00:00\u001b[0m\n",
            "\u001b[?25hDownloading pointpats-2.5.1-py3-none-any.whl (59 kB)\n",
            "\u001b[2K   \u001b[90m━━━━━━━━━━━━━━━━━━━━━━━━━━━━━━━━━━━━━━━━\u001b[0m \u001b[32m59.2/59.2 kB\u001b[0m \u001b[31m4.8 MB/s\u001b[0m eta \u001b[36m0:00:00\u001b[0m\n",
            "\u001b[?25hDownloading segregation-2.5-py3-none-any.whl (141 kB)\n",
            "\u001b[2K   \u001b[90m━━━━━━━━━━━━━━━━━━━━━━━━━━━━━━━━━━━━━━━━\u001b[0m \u001b[32m141.3/141.3 kB\u001b[0m \u001b[31m13.7 MB/s\u001b[0m eta \u001b[36m0:00:00\u001b[0m\n",
            "\u001b[?25hDownloading spaghetti-1.7.6-py3-none-any.whl (53 kB)\n",
            "\u001b[2K   \u001b[90m━━━━━━━━━━━━━━━━━━━━━━━━━━━━━━━━━━━━━━━━\u001b[0m \u001b[32m53.9/53.9 kB\u001b[0m \u001b[31m5.5 MB/s\u001b[0m eta \u001b[36m0:00:00\u001b[0m\n",
            "\u001b[?25hDownloading spglm-1.1.0-py3-none-any.whl (41 kB)\n",
            "\u001b[2K   \u001b[90m━━━━━━━━━━━━━━━━━━━━━━━━━━━━━━━━━━━━━━━━\u001b[0m \u001b[32m41.4/41.4 kB\u001b[0m \u001b[31m3.9 MB/s\u001b[0m eta \u001b[36m0:00:00\u001b[0m\n",
            "\u001b[?25hDownloading splot-1.1.7-py3-none-any.whl (39 kB)\n",
            "Downloading spopt-0.6.1-py3-none-any.whl (243 kB)\n",
            "\u001b[2K   \u001b[90m━━━━━━━━━━━━━━━━━━━━━━━━━━━━━━━━━━━━━━━━\u001b[0m \u001b[32m243.1/243.1 kB\u001b[0m \u001b[31m18.5 MB/s\u001b[0m eta \u001b[36m0:00:00\u001b[0m\n",
            "\u001b[?25hDownloading spreg-1.7-py3-none-any.whl (372 kB)\n",
            "\u001b[2K   \u001b[90m━━━━━━━━━━━━━━━━━━━━━━━━━━━━━━━━━━━━━━━━\u001b[0m \u001b[32m372.8/372.8 kB\u001b[0m \u001b[31m25.5 MB/s\u001b[0m eta \u001b[36m0:00:00\u001b[0m\n",
            "\u001b[?25hDownloading tobler-0.11.3-py3-none-any.whl (28 kB)\n",
            "Downloading PuLP-2.9.0-py3-none-any.whl (17.7 MB)\n",
            "\u001b[2K   \u001b[90m━━━━━━━━━━━━━━━━━━━━━━━━━━━━━━━━━━━━━━━━\u001b[0m \u001b[32m17.7/17.7 MB\u001b[0m \u001b[31m38.8 MB/s\u001b[0m eta \u001b[36m0:00:00\u001b[0m\n",
            "\u001b[?25hDownloading quantecon-0.7.2-py3-none-any.whl (215 kB)\n",
            "\u001b[2K   \u001b[90m━━━━━━━━━━━━━━━━━━━━━━━━━━━━━━━━━━━━━━━━\u001b[0m \u001b[32m215.4/215.4 kB\u001b[0m \u001b[31m17.1 MB/s\u001b[0m eta \u001b[36m0:00:00\u001b[0m\n",
            "\u001b[?25hDownloading Rtree-1.3.0-py3-none-manylinux2014_x86_64.manylinux_2_17_x86_64.whl (543 kB)\n",
            "\u001b[2K   \u001b[90m━━━━━━━━━━━━━━━━━━━━━━━━━━━━━━━━━━━━━━━━\u001b[0m \u001b[32m543.2/543.2 kB\u001b[0m \u001b[31m23.8 MB/s\u001b[0m eta \u001b[36m0:00:00\u001b[0m\n",
            "\u001b[?25hDownloading deprecation-2.1.0-py2.py3-none-any.whl (11 kB)\n",
            "Downloading rasterio-1.4.2-cp310-cp310-manylinux_2_17_x86_64.manylinux2014_x86_64.whl (22.2 MB)\n",
            "\u001b[2K   \u001b[90m━━━━━━━━━━━━━━━━━━━━━━━━━━━━━━━━━━━━━━━━\u001b[0m \u001b[32m22.2/22.2 MB\u001b[0m \u001b[31m31.6 MB/s\u001b[0m eta \u001b[36m0:00:00\u001b[0m\n",
            "\u001b[?25hDownloading rasterstats-0.20.0-py3-none-any.whl (17 kB)\n",
            "Downloading cligj-0.7.2-py3-none-any.whl (7.1 kB)\n",
            "Downloading affine-2.4.0-py3-none-any.whl (15 kB)\n",
            "Downloading click_plugins-1.1.1-py2.py3-none-any.whl (7.5 kB)\n",
            "Downloading fiona-1.10.1-cp310-cp310-manylinux_2_17_x86_64.manylinux2014_x86_64.whl (17.3 MB)\n",
            "\u001b[2K   \u001b[90m━━━━━━━━━━━━━━━━━━━━━━━━━━━━━━━━━━━━━━━━\u001b[0m \u001b[32m17.3/17.3 MB\u001b[0m \u001b[31m42.6 MB/s\u001b[0m eta \u001b[36m0:00:00\u001b[0m\n",
            "\u001b[?25hDownloading simplejson-3.19.3-cp310-cp310-manylinux_2_5_x86_64.manylinux1_x86_64.manylinux_2_17_x86_64.manylinux2014_x86_64.whl (137 kB)\n",
            "\u001b[2K   \u001b[90m━━━━━━━━━━━━━━━━━━━━━━━━━━━━━━━━━━━━━━━━\u001b[0m \u001b[32m137.9/137.9 kB\u001b[0m \u001b[31m14.0 MB/s\u001b[0m eta \u001b[36m0:00:00\u001b[0m\n",
            "\u001b[?25hBuilding wheels for collected packages: spint, spvcm\n",
            "  Building wheel for spint (setup.py) ... \u001b[?25l\u001b[?25hdone\n",
            "  Created wheel for spint: filename=spint-1.0.7-py3-none-any.whl size=31355 sha256=73413cbe8153e5870f5caafdd5e7389203dde623317533fb122ce4d513b092b6\n",
            "  Stored in directory: /root/.cache/pip/wheels/f6/1d/ab/81b0c9d17a778a97ec078147cb11901afdab420c4894dcfbc5\n",
            "  Building wheel for spvcm (setup.py) ... \u001b[?25l\u001b[?25hdone\n",
            "  Created wheel for spvcm: filename=spvcm-0.3.0-py3-none-any.whl size=5777184 sha256=043290aeed41f5a6c42ac4774c571caaa531caac4af6dae341d998e625cb18c6\n",
            "  Stored in directory: /root/.cache/pip/wheels/1c/58/6f/debcb62c0a142a6615a65f23217209b543b478d309edfa4e2b\n",
            "Successfully built spint spvcm\n",
            "Installing collected packages: simplejson, rtree, pulp, deprecation, cligj, click-plugins, affine, rasterio, quantecon, fiona, rasterstats, mapclassify, libpysal, access, tobler, spreg, segregation, pointpats, momepy, inequality, esda, spvcm, spglm, spaghetti, giddy, spopt, splot, spint, mgwr, pysal\n",
            "Successfully installed access-1.1.9 affine-2.4.0 click-plugins-1.1.1 cligj-0.7.2 deprecation-2.1.0 esda-2.6.0 fiona-1.10.1 giddy-2.3.5 inequality-1.0.1 libpysal-4.12.1 mapclassify-2.8.1 mgwr-2.2.1 momepy-0.8.1 pointpats-2.5.1 pulp-2.9.0 pysal-24.7 quantecon-0.7.2 rasterio-1.4.2 rasterstats-0.20.0 rtree-1.3.0 segregation-2.5 simplejson-3.19.3 spaghetti-1.7.6 spglm-1.1.0 spint-1.0.7 splot-1.1.7 spopt-0.6.1 spreg-1.7 spvcm-0.3.0 tobler-0.11.3\n"
          ]
        }
      ]
    },
    {
      "cell_type": "code",
      "execution_count": null,
      "metadata": {
        "id": "mpjJuzp4v35J",
        "colab": {
          "base_uri": "https://localhost:8080/"
        },
        "outputId": "05fc0787-eaaf-4ff9-cea6-30876e7bf862"
      },
      "outputs": [
        {
          "output_type": "stream",
          "name": "stderr",
          "text": [
            "/usr/local/lib/python3.10/dist-packages/spaghetti/network.py:41: FutureWarning: The next major release of pysal/spaghetti (2.0.0) will drop support for all ``libpysal.cg`` geometries. This change is a first step in refactoring ``spaghetti`` that is expected to result in dramatically reduced runtimes for network instantiation and operations. Users currently requiring network and point pattern input as ``libpysal.cg`` geometries should prepare for this simply by converting to ``shapely`` geometries.\n",
            "  warnings.warn(dep_msg, FutureWarning, stacklevel=1)\n"
          ]
        }
      ],
      "source": [
        "# 1. Importowanie bibliotek\n",
        "\n",
        "import geopandas as gpd\n",
        "import pandas as pd\n",
        "import matplotlib.pyplot as plt\n",
        "import numpy as np\n",
        "\n",
        "import pysal.lib\n",
        "from pysal.lib import weights\n",
        "from pysal.explore import esda\n"
      ]
    },
    {
      "cell_type": "code",
      "source": [
        "# 2. Przygotowanie danych\n",
        "\n",
        "wojewodztwa = gpd.read_file(\"wojewodztwa/wojewodztwa.shp\")\n",
        "daneWoj = pd.read_csv(\"daneWoj.csv\")\n",
        "\n",
        "wojewodztwa['wojewodztwo'] = wojewodztwa['JPT_NAZWA_'].str.lower()  # Kolumna z nazwami województw w shapefile\n",
        "daneWoj['wojewodztwo'] = daneWoj['województwo'].str.lower()    # Kolumna z CSV\n",
        "wojewodztwa = wojewodztwa.merge(daneWoj, on='wojewodztwo')\n",
        "\n",
        "wojewodztwa.head()"
      ],
      "metadata": {
        "id": "0A5YXGgd2UP1",
        "colab": {
          "base_uri": "https://localhost:8080/",
          "height": 672
        },
        "outputId": "eeb2f337-5ac8-487f-eae7-f4e7e89c74b9"
      },
      "execution_count": null,
      "outputs": [
        {
          "output_type": "execute_result",
          "data": {
            "text/plain": [
              "  gml_id JPT_SJR_KO JPT_POWIER JPT_KOD_JE          JPT_NAZWA_ JPT_ORGAN_  \\\n",
              "0   None        WOJ    2289315         32  zachodniopomorskie       None   \n",
              "1   None        WOJ    1398751         08            lubuskie       None   \n",
              "2   None        WOJ    1994777         02        dolnośląskie       None   \n",
              "3   None        WOJ    2982700         30       wielkopolskie       None   \n",
              "4   None        WOJ    1831001         22           pomorskie       None   \n",
              "\n",
              "  JPT_JOR_ID WERSJA_OD WERSJA_DO  WAZNY_OD  ...       RODZAJ  \\\n",
              "0          0  20220613         0  20120926  ...  wojewodztwo   \n",
              "1          0  20211210         0  20120926  ...  wojewodztwo   \n",
              "2          0  20221019         0  20120926  ...  wojewodztwo   \n",
              "3          0  20220330         0  20120926  ...  wojewodztwo   \n",
              "4          0  20220906         0  20120926  ...  wojewodztwo   \n",
              "\n",
              "                                            geometry         wojewodztwo oid  \\\n",
              "0  POLYGON ((188256.168 683730.875, 189761.898 68...  zachodniopomorskie   6   \n",
              "1  POLYGON ((249058.528 411232.826, 249030.522 41...            lubuskie   4   \n",
              "2  POLYGON ((351910.997 289041.305, 351818.002 28...        dolnośląskie   7   \n",
              "3  POLYGON ((441690.785 515930.957, 441724.727 51...       wielkopolskie   5   \n",
              "4  POLYGON ((488665.467 751328.589, 488780.891 75...           pomorskie  10   \n",
              "\n",
              "       kod KTS         województwo powierzchnia   rok TERYT  \\\n",
              "0  23200000000  zachodniopomorskie      22907.0  2022    32   \n",
              "1  20800000000            lubuskie      13988.0  2022     8   \n",
              "2  30200000000        dolnośląskie      19947.0  2022     2   \n",
              "3  23000000000       wielkopolskie      29827.0  2022    30   \n",
              "4  42200000000           pomorskie      18336.0  2022    22   \n",
              "\n",
              "  Odpady zebrane w ciągu roku|ogółem w tys. ton  \n",
              "0                                        676.96  \n",
              "1                                        391.14  \n",
              "2                                       1220.22  \n",
              "3                                       1331.13  \n",
              "4                                        903.98  \n",
              "\n",
              "[5 rows x 45 columns]"
            ],
            "text/html": [
              "\n",
              "  <div id=\"df-0f8ded3e-505e-444a-b2b0-43bcfb1cc678\" class=\"colab-df-container\">\n",
              "    <div>\n",
              "<style scoped>\n",
              "    .dataframe tbody tr th:only-of-type {\n",
              "        vertical-align: middle;\n",
              "    }\n",
              "\n",
              "    .dataframe tbody tr th {\n",
              "        vertical-align: top;\n",
              "    }\n",
              "\n",
              "    .dataframe thead th {\n",
              "        text-align: right;\n",
              "    }\n",
              "</style>\n",
              "<table border=\"1\" class=\"dataframe\">\n",
              "  <thead>\n",
              "    <tr style=\"text-align: right;\">\n",
              "      <th></th>\n",
              "      <th>gml_id</th>\n",
              "      <th>JPT_SJR_KO</th>\n",
              "      <th>JPT_POWIER</th>\n",
              "      <th>JPT_KOD_JE</th>\n",
              "      <th>JPT_NAZWA_</th>\n",
              "      <th>JPT_ORGAN_</th>\n",
              "      <th>JPT_JOR_ID</th>\n",
              "      <th>WERSJA_OD</th>\n",
              "      <th>WERSJA_DO</th>\n",
              "      <th>WAZNY_OD</th>\n",
              "      <th>...</th>\n",
              "      <th>RODZAJ</th>\n",
              "      <th>geometry</th>\n",
              "      <th>wojewodztwo</th>\n",
              "      <th>oid</th>\n",
              "      <th>kod KTS</th>\n",
              "      <th>województwo</th>\n",
              "      <th>powierzchnia</th>\n",
              "      <th>rok</th>\n",
              "      <th>TERYT</th>\n",
              "      <th>Odpady zebrane w ciągu roku|ogółem w tys. ton</th>\n",
              "    </tr>\n",
              "  </thead>\n",
              "  <tbody>\n",
              "    <tr>\n",
              "      <th>0</th>\n",
              "      <td>None</td>\n",
              "      <td>WOJ</td>\n",
              "      <td>2289315</td>\n",
              "      <td>32</td>\n",
              "      <td>zachodniopomorskie</td>\n",
              "      <td>None</td>\n",
              "      <td>0</td>\n",
              "      <td>20220613</td>\n",
              "      <td>0</td>\n",
              "      <td>20120926</td>\n",
              "      <td>...</td>\n",
              "      <td>wojewodztwo</td>\n",
              "      <td>POLYGON ((188256.168 683730.875, 189761.898 68...</td>\n",
              "      <td>zachodniopomorskie</td>\n",
              "      <td>6</td>\n",
              "      <td>23200000000</td>\n",
              "      <td>zachodniopomorskie</td>\n",
              "      <td>22907.0</td>\n",
              "      <td>2022</td>\n",
              "      <td>32</td>\n",
              "      <td>676.96</td>\n",
              "    </tr>\n",
              "    <tr>\n",
              "      <th>1</th>\n",
              "      <td>None</td>\n",
              "      <td>WOJ</td>\n",
              "      <td>1398751</td>\n",
              "      <td>08</td>\n",
              "      <td>lubuskie</td>\n",
              "      <td>None</td>\n",
              "      <td>0</td>\n",
              "      <td>20211210</td>\n",
              "      <td>0</td>\n",
              "      <td>20120926</td>\n",
              "      <td>...</td>\n",
              "      <td>wojewodztwo</td>\n",
              "      <td>POLYGON ((249058.528 411232.826, 249030.522 41...</td>\n",
              "      <td>lubuskie</td>\n",
              "      <td>4</td>\n",
              "      <td>20800000000</td>\n",
              "      <td>lubuskie</td>\n",
              "      <td>13988.0</td>\n",
              "      <td>2022</td>\n",
              "      <td>8</td>\n",
              "      <td>391.14</td>\n",
              "    </tr>\n",
              "    <tr>\n",
              "      <th>2</th>\n",
              "      <td>None</td>\n",
              "      <td>WOJ</td>\n",
              "      <td>1994777</td>\n",
              "      <td>02</td>\n",
              "      <td>dolnośląskie</td>\n",
              "      <td>None</td>\n",
              "      <td>0</td>\n",
              "      <td>20221019</td>\n",
              "      <td>0</td>\n",
              "      <td>20120926</td>\n",
              "      <td>...</td>\n",
              "      <td>wojewodztwo</td>\n",
              "      <td>POLYGON ((351910.997 289041.305, 351818.002 28...</td>\n",
              "      <td>dolnośląskie</td>\n",
              "      <td>7</td>\n",
              "      <td>30200000000</td>\n",
              "      <td>dolnośląskie</td>\n",
              "      <td>19947.0</td>\n",
              "      <td>2022</td>\n",
              "      <td>2</td>\n",
              "      <td>1220.22</td>\n",
              "    </tr>\n",
              "    <tr>\n",
              "      <th>3</th>\n",
              "      <td>None</td>\n",
              "      <td>WOJ</td>\n",
              "      <td>2982700</td>\n",
              "      <td>30</td>\n",
              "      <td>wielkopolskie</td>\n",
              "      <td>None</td>\n",
              "      <td>0</td>\n",
              "      <td>20220330</td>\n",
              "      <td>0</td>\n",
              "      <td>20120926</td>\n",
              "      <td>...</td>\n",
              "      <td>wojewodztwo</td>\n",
              "      <td>POLYGON ((441690.785 515930.957, 441724.727 51...</td>\n",
              "      <td>wielkopolskie</td>\n",
              "      <td>5</td>\n",
              "      <td>23000000000</td>\n",
              "      <td>wielkopolskie</td>\n",
              "      <td>29827.0</td>\n",
              "      <td>2022</td>\n",
              "      <td>30</td>\n",
              "      <td>1331.13</td>\n",
              "    </tr>\n",
              "    <tr>\n",
              "      <th>4</th>\n",
              "      <td>None</td>\n",
              "      <td>WOJ</td>\n",
              "      <td>1831001</td>\n",
              "      <td>22</td>\n",
              "      <td>pomorskie</td>\n",
              "      <td>None</td>\n",
              "      <td>0</td>\n",
              "      <td>20220906</td>\n",
              "      <td>0</td>\n",
              "      <td>20120926</td>\n",
              "      <td>...</td>\n",
              "      <td>wojewodztwo</td>\n",
              "      <td>POLYGON ((488665.467 751328.589, 488780.891 75...</td>\n",
              "      <td>pomorskie</td>\n",
              "      <td>10</td>\n",
              "      <td>42200000000</td>\n",
              "      <td>pomorskie</td>\n",
              "      <td>18336.0</td>\n",
              "      <td>2022</td>\n",
              "      <td>22</td>\n",
              "      <td>903.98</td>\n",
              "    </tr>\n",
              "  </tbody>\n",
              "</table>\n",
              "<p>5 rows × 45 columns</p>\n",
              "</div>\n",
              "    <div class=\"colab-df-buttons\">\n",
              "\n",
              "  <div class=\"colab-df-container\">\n",
              "    <button class=\"colab-df-convert\" onclick=\"convertToInteractive('df-0f8ded3e-505e-444a-b2b0-43bcfb1cc678')\"\n",
              "            title=\"Convert this dataframe to an interactive table.\"\n",
              "            style=\"display:none;\">\n",
              "\n",
              "  <svg xmlns=\"http://www.w3.org/2000/svg\" height=\"24px\" viewBox=\"0 -960 960 960\">\n",
              "    <path d=\"M120-120v-720h720v720H120Zm60-500h600v-160H180v160Zm220 220h160v-160H400v160Zm0 220h160v-160H400v160ZM180-400h160v-160H180v160Zm440 0h160v-160H620v160ZM180-180h160v-160H180v160Zm440 0h160v-160H620v160Z\"/>\n",
              "  </svg>\n",
              "    </button>\n",
              "\n",
              "  <style>\n",
              "    .colab-df-container {\n",
              "      display:flex;\n",
              "      gap: 12px;\n",
              "    }\n",
              "\n",
              "    .colab-df-convert {\n",
              "      background-color: #E8F0FE;\n",
              "      border: none;\n",
              "      border-radius: 50%;\n",
              "      cursor: pointer;\n",
              "      display: none;\n",
              "      fill: #1967D2;\n",
              "      height: 32px;\n",
              "      padding: 0 0 0 0;\n",
              "      width: 32px;\n",
              "    }\n",
              "\n",
              "    .colab-df-convert:hover {\n",
              "      background-color: #E2EBFA;\n",
              "      box-shadow: 0px 1px 2px rgba(60, 64, 67, 0.3), 0px 1px 3px 1px rgba(60, 64, 67, 0.15);\n",
              "      fill: #174EA6;\n",
              "    }\n",
              "\n",
              "    .colab-df-buttons div {\n",
              "      margin-bottom: 4px;\n",
              "    }\n",
              "\n",
              "    [theme=dark] .colab-df-convert {\n",
              "      background-color: #3B4455;\n",
              "      fill: #D2E3FC;\n",
              "    }\n",
              "\n",
              "    [theme=dark] .colab-df-convert:hover {\n",
              "      background-color: #434B5C;\n",
              "      box-shadow: 0px 1px 3px 1px rgba(0, 0, 0, 0.15);\n",
              "      filter: drop-shadow(0px 1px 2px rgba(0, 0, 0, 0.3));\n",
              "      fill: #FFFFFF;\n",
              "    }\n",
              "  </style>\n",
              "\n",
              "    <script>\n",
              "      const buttonEl =\n",
              "        document.querySelector('#df-0f8ded3e-505e-444a-b2b0-43bcfb1cc678 button.colab-df-convert');\n",
              "      buttonEl.style.display =\n",
              "        google.colab.kernel.accessAllowed ? 'block' : 'none';\n",
              "\n",
              "      async function convertToInteractive(key) {\n",
              "        const element = document.querySelector('#df-0f8ded3e-505e-444a-b2b0-43bcfb1cc678');\n",
              "        const dataTable =\n",
              "          await google.colab.kernel.invokeFunction('convertToInteractive',\n",
              "                                                    [key], {});\n",
              "        if (!dataTable) return;\n",
              "\n",
              "        const docLinkHtml = 'Like what you see? Visit the ' +\n",
              "          '<a target=\"_blank\" href=https://colab.research.google.com/notebooks/data_table.ipynb>data table notebook</a>'\n",
              "          + ' to learn more about interactive tables.';\n",
              "        element.innerHTML = '';\n",
              "        dataTable['output_type'] = 'display_data';\n",
              "        await google.colab.output.renderOutput(dataTable, element);\n",
              "        const docLink = document.createElement('div');\n",
              "        docLink.innerHTML = docLinkHtml;\n",
              "        element.appendChild(docLink);\n",
              "      }\n",
              "    </script>\n",
              "  </div>\n",
              "\n",
              "\n",
              "<div id=\"df-228a6066-01f3-4332-91f7-c8741c855317\">\n",
              "  <button class=\"colab-df-quickchart\" onclick=\"quickchart('df-228a6066-01f3-4332-91f7-c8741c855317')\"\n",
              "            title=\"Suggest charts\"\n",
              "            style=\"display:none;\">\n",
              "\n",
              "<svg xmlns=\"http://www.w3.org/2000/svg\" height=\"24px\"viewBox=\"0 0 24 24\"\n",
              "     width=\"24px\">\n",
              "    <g>\n",
              "        <path d=\"M19 3H5c-1.1 0-2 .9-2 2v14c0 1.1.9 2 2 2h14c1.1 0 2-.9 2-2V5c0-1.1-.9-2-2-2zM9 17H7v-7h2v7zm4 0h-2V7h2v10zm4 0h-2v-4h2v4z\"/>\n",
              "    </g>\n",
              "</svg>\n",
              "  </button>\n",
              "\n",
              "<style>\n",
              "  .colab-df-quickchart {\n",
              "      --bg-color: #E8F0FE;\n",
              "      --fill-color: #1967D2;\n",
              "      --hover-bg-color: #E2EBFA;\n",
              "      --hover-fill-color: #174EA6;\n",
              "      --disabled-fill-color: #AAA;\n",
              "      --disabled-bg-color: #DDD;\n",
              "  }\n",
              "\n",
              "  [theme=dark] .colab-df-quickchart {\n",
              "      --bg-color: #3B4455;\n",
              "      --fill-color: #D2E3FC;\n",
              "      --hover-bg-color: #434B5C;\n",
              "      --hover-fill-color: #FFFFFF;\n",
              "      --disabled-bg-color: #3B4455;\n",
              "      --disabled-fill-color: #666;\n",
              "  }\n",
              "\n",
              "  .colab-df-quickchart {\n",
              "    background-color: var(--bg-color);\n",
              "    border: none;\n",
              "    border-radius: 50%;\n",
              "    cursor: pointer;\n",
              "    display: none;\n",
              "    fill: var(--fill-color);\n",
              "    height: 32px;\n",
              "    padding: 0;\n",
              "    width: 32px;\n",
              "  }\n",
              "\n",
              "  .colab-df-quickchart:hover {\n",
              "    background-color: var(--hover-bg-color);\n",
              "    box-shadow: 0 1px 2px rgba(60, 64, 67, 0.3), 0 1px 3px 1px rgba(60, 64, 67, 0.15);\n",
              "    fill: var(--button-hover-fill-color);\n",
              "  }\n",
              "\n",
              "  .colab-df-quickchart-complete:disabled,\n",
              "  .colab-df-quickchart-complete:disabled:hover {\n",
              "    background-color: var(--disabled-bg-color);\n",
              "    fill: var(--disabled-fill-color);\n",
              "    box-shadow: none;\n",
              "  }\n",
              "\n",
              "  .colab-df-spinner {\n",
              "    border: 2px solid var(--fill-color);\n",
              "    border-color: transparent;\n",
              "    border-bottom-color: var(--fill-color);\n",
              "    animation:\n",
              "      spin 1s steps(1) infinite;\n",
              "  }\n",
              "\n",
              "  @keyframes spin {\n",
              "    0% {\n",
              "      border-color: transparent;\n",
              "      border-bottom-color: var(--fill-color);\n",
              "      border-left-color: var(--fill-color);\n",
              "    }\n",
              "    20% {\n",
              "      border-color: transparent;\n",
              "      border-left-color: var(--fill-color);\n",
              "      border-top-color: var(--fill-color);\n",
              "    }\n",
              "    30% {\n",
              "      border-color: transparent;\n",
              "      border-left-color: var(--fill-color);\n",
              "      border-top-color: var(--fill-color);\n",
              "      border-right-color: var(--fill-color);\n",
              "    }\n",
              "    40% {\n",
              "      border-color: transparent;\n",
              "      border-right-color: var(--fill-color);\n",
              "      border-top-color: var(--fill-color);\n",
              "    }\n",
              "    60% {\n",
              "      border-color: transparent;\n",
              "      border-right-color: var(--fill-color);\n",
              "    }\n",
              "    80% {\n",
              "      border-color: transparent;\n",
              "      border-right-color: var(--fill-color);\n",
              "      border-bottom-color: var(--fill-color);\n",
              "    }\n",
              "    90% {\n",
              "      border-color: transparent;\n",
              "      border-bottom-color: var(--fill-color);\n",
              "    }\n",
              "  }\n",
              "</style>\n",
              "\n",
              "  <script>\n",
              "    async function quickchart(key) {\n",
              "      const quickchartButtonEl =\n",
              "        document.querySelector('#' + key + ' button');\n",
              "      quickchartButtonEl.disabled = true;  // To prevent multiple clicks.\n",
              "      quickchartButtonEl.classList.add('colab-df-spinner');\n",
              "      try {\n",
              "        const charts = await google.colab.kernel.invokeFunction(\n",
              "            'suggestCharts', [key], {});\n",
              "      } catch (error) {\n",
              "        console.error('Error during call to suggestCharts:', error);\n",
              "      }\n",
              "      quickchartButtonEl.classList.remove('colab-df-spinner');\n",
              "      quickchartButtonEl.classList.add('colab-df-quickchart-complete');\n",
              "    }\n",
              "    (() => {\n",
              "      let quickchartButtonEl =\n",
              "        document.querySelector('#df-228a6066-01f3-4332-91f7-c8741c855317 button');\n",
              "      quickchartButtonEl.style.display =\n",
              "        google.colab.kernel.accessAllowed ? 'block' : 'none';\n",
              "    })();\n",
              "  </script>\n",
              "</div>\n",
              "\n",
              "    </div>\n",
              "  </div>\n"
            ],
            "application/vnd.google.colaboratory.intrinsic+json": {
              "type": "dataframe",
              "variable_name": "wojewodztwa"
            }
          },
          "metadata": {},
          "execution_count": 8
        }
      ]
    },
    {
      "cell_type": "markdown",
      "source": [
        "# Autokorelacja przestrzenna\n",
        "\n",
        "w użytych testach mamy następujace hipotezy:\n",
        "\n",
        "Hipotezy:\n",
        "\n",
        "𝐻0 : Brak autokorelacji przestrzennej\n",
        "\n",
        "\n",
        "H1 : Istnieje autokorelacja przestrzenna\n"
      ],
      "metadata": {
        "id": "5ar2GUHH6f9f"
      }
    },
    {
      "cell_type": "code",
      "source": [
        "# 3. Tworzenie macierzy wag przestrzennych\n",
        "w = weights.Queen.from_dataframe(wojewodztwa)\n",
        "w.transform = 'R'  # Normalizacja macierzy wag\n"
      ],
      "metadata": {
        "colab": {
          "base_uri": "https://localhost:8080/"
        },
        "id": "uRurjWvv1FDy",
        "outputId": "ea934341-9961-4b11-9de6-d399ca400e08"
      },
      "execution_count": null,
      "outputs": [
        {
          "output_type": "stream",
          "name": "stderr",
          "text": [
            "<ipython-input-5-7beab24731ae>:2: FutureWarning: `use_index` defaults to False but will default to True in future. Set True/False directly to control this behavior and silence this warning\n",
            "  w = weights.Queen.from_dataframe(wojewodztwa)\n"
          ]
        }
      ]
    },
    {
      "cell_type": "code",
      "source": [
        "# 4. Wyodrębnienie wartości zmiennej\n",
        "y = wojewodztwa['Odpady zebrane w ciągu roku|ogółem w tys. ton'].values\n"
      ],
      "metadata": {
        "id": "dXO57cNU1e62"
      },
      "execution_count": null,
      "outputs": []
    },
    {
      "cell_type": "code",
      "source": [
        "# 5. Obliczenie wskaźnika Morana\n",
        "moran = esda.Moran(y, w)\n",
        "\n",
        "print('Wskaźnik Morana I:', moran.I)\n",
        "print('Statystyka z:', moran.z_norm)\n",
        "print('p-value:', moran.p_norm)\n"
      ],
      "metadata": {
        "colab": {
          "base_uri": "https://localhost:8080/"
        },
        "id": "-DpLWGQU1hEt",
        "outputId": "c0d7bbc2-b36f-4cb3-ad45-76c1626fa15d"
      },
      "execution_count": null,
      "outputs": [
        {
          "output_type": "stream",
          "name": "stdout",
          "text": [
            "Wskaźnik Morana I: -0.29494410674958277\n",
            "Statystyka z: -1.5346937902035942\n",
            "p-value: 0.12485906191611987\n"
          ]
        }
      ]
    },
    {
      "cell_type": "code",
      "source": [
        "# 6. Obliczenie wskaźnika Geary'ego\n",
        "geary = esda.Geary(y, w)\n",
        "\n",
        "print('Wskaźnik Geary\\'ego C:', geary.C)\n",
        "print('Statystyka z:', geary.z_norm)\n",
        "print('p-value:', geary.p_norm)\n"
      ],
      "metadata": {
        "colab": {
          "base_uri": "https://localhost:8080/"
        },
        "id": "ik_ZIj071jI-",
        "outputId": "9eed5c7c-e485-48f8-b47b-25d866cd4218"
      },
      "execution_count": null,
      "outputs": [
        {
          "output_type": "stream",
          "name": "stdout",
          "text": [
            "Wskaźnik Geary'ego C: 1.2736093887115443\n",
            "Statystyka z: 1.8208863903188468\n",
            "p-value: 0.03431206420540975\n"
          ]
        }
      ]
    },
    {
      "cell_type": "code",
      "source": [
        "# 7. Obliczenie statystyki Getisa i Orda G\n",
        "G = esda.G(y, w)\n",
        "\n",
        "print('Statystyka G Getisa i Orda:', G.G)\n",
        "print('Statystyka z:', G.z_norm)\n",
        "print('p-value:', G.p_norm)\n"
      ],
      "metadata": {
        "colab": {
          "base_uri": "https://localhost:8080/"
        },
        "id": "nYVDKIHm1mU3",
        "outputId": "58eed361-4cdc-42ac-b273-93b5db3c8bb1"
      },
      "execution_count": null,
      "outputs": [
        {
          "output_type": "stream",
          "name": "stdout",
          "text": [
            "Statystyka G Getisa i Orda: 0.29029858981786816\n",
            "Statystyka z: 0.23627946059469418\n",
            "p-value: 0.4066079119212024\n"
          ]
        }
      ]
    },
    {
      "cell_type": "markdown",
      "source": [
        "8. Interpretacja wyników\n",
        "\n",
        "- Wskaźnik Morana I: wartości bliskie 1 wskazują na silną pozytywną autokorelację przestrzenną, wartości bliskie -1 na silną negatywną autokorelację, a wartości bliskie 0 sugerują brak autokorelacji.\n",
        "\n",
        "- Wskaźnik Geary'ego C: wartości mniejsze niż 1 wskazują na pozytywną autokorelację, a wartości większe niż 1 na negatywną autokorelację.\n",
        "\n",
        "- Wskaźnik G Getisa i Orda: wysokie wartości wskazują na skupiska wysokich wartości zmiennej, a niskie na skupiska niskich wartości.\n",
        "\n",
        "\n",
        "W naszym przypadku wartości statystyk wynosiły:\n",
        "\n",
        "- Morana I: -0.29494410674958277\n",
        "Statystyka z: -1.5346937902035942\n",
        "p-value: 0.12485906191611987\n",
        "\n",
        "- Geary'ego C: 1.2736093887115443\n",
        "Statystyka z: 1.8208863903188468\n",
        "p-value: 0.03431206420540975\n",
        "\n",
        "- G Getisa i Orda: 0.29029858981786816\n",
        "Statystyka z: 0.23627946059469418\n",
        "p-value: 0.4066079119212024\n",
        "\n",
        "\n",
        "Podsumowując wyniki: wskaźnik Morana I wskazuje na brak istotnej autokorelacji przestrzennej dla odpadów komunalnych między województwami. Wskaźnik Geary'ego C sugeruje pewną negatywną autokorelację, co oznacza różnice w poziomie zmiennej między sąsiadującymi województwami, jednak jest ona słaba. Z kolei wskaźnik G Getisa i Orda nie wykazał obecności wyraźnych skupisk wysokich ani niskich wartości zmiennej w badanych regionach.\n",
        "\n",
        "Podsumowujac nie ma silnych przestrzennych wzorców autokorelacji w danych o odpadach komunalnych między województwami. Brak istotnej pozytywnej autokorelacji wskazuje, że sąsiednie województwa nie mają wyraźnie podobnych poziomów tej zmiennej. Natomiast wyniki Geary'ego C sugerują umiarkowaną tendencję do różnic między województwami, co może oznaczać, że poziom gospodarki odpadami zależy bardziej od lokalnych czynników niż od wzajemnych wpływów przestrzennych. Brak skupisk potwierdzony wskaźnikiem G Getisa i Orda dodatkowo wspiera wniosek, że zarządzanie odpadami w regionach jest raczej zróżnicowane i nie tworzy wyraźnych, sąsiadujących ze sobą \"stref\" o podobnych wartościach."
      ],
      "metadata": {
        "id": "UuTmYSBr2a68"
      }
    },
    {
      "cell_type": "code",
      "source": [
        "# 9. Wizualizacja wyników\n",
        "\n",
        "# Obliczenie lokalnego wskaźnika Morana\n",
        "lm = esda.Moran_Local(y, w)\n",
        "\n",
        "# Dodanie wyników do GeoDataFrame\n",
        "wojewodztwa['local_moran'] = lm.Is\n",
        "\n",
        "# Wizualizacja\n",
        "wojewodztwa.plot(column='local_moran', cmap='RdBu', legend=True)\n",
        "plt.title('Lokalny wskaźnik Morana')\n",
        "plt.show()\n"
      ],
      "metadata": {
        "colab": {
          "base_uri": "https://localhost:8080/",
          "height": 452
        },
        "id": "UvL5fwnl1opW",
        "outputId": "f8ccfea1-3778-46cd-f3bf-f708eb4f829b"
      },
      "execution_count": null,
      "outputs": [
        {
          "output_type": "display_data",
          "data": {
            "text/plain": [
              "<Figure size 640x480 with 2 Axes>"
            ],
            "image/png": "[encoded data removed]"
          },
          "metadata": {}
        }
      ]
    },
    {
      "cell_type": "markdown",
      "source": [
        "# Autokorelacja przestrzenna z permutacjami\n"
      ],
      "metadata": {
        "id": "OG8sf8wi6aFp"
      }
    },
    {
      "cell_type": "code",
      "source": [
        "# Obliczenie wskaźnika Morana I z permutacjami\n",
        "moran_perm = esda.Moran(y, w, permutations=999)\n",
        "\n",
        "print('Wskaźnik Morana I:', moran_perm.I)\n",
        "print('p-value (permutacje):', moran_perm.p_sim)\n",
        "print('Z-score (permutacje):', moran_perm.z_sim)\n"
      ],
      "metadata": {
        "colab": {
          "base_uri": "https://localhost:8080/"
        },
        "id": "Av5heaK02kO7",
        "outputId": "714b63e9-9214-4fe9-d53c-167803a6d465"
      },
      "execution_count": null,
      "outputs": [
        {
          "output_type": "stream",
          "name": "stdout",
          "text": [
            "Wskaźnik Morana I: -0.29494410674958277\n",
            "p-value (permutacje): 0.043\n",
            "Z-score (permutacje): -1.5531629492238848\n"
          ]
        }
      ]
    },
    {
      "cell_type": "code",
      "source": [
        "# Geary's C z permutacjami\n",
        "geary_perm = esda.Geary(y, w, permutations=999)\n",
        "print('Wskaźnik Geary\\'ego C:', geary_perm.C)\n",
        "print('p-value (permutacje):', geary_perm.p_sim)"
      ],
      "metadata": {
        "colab": {
          "base_uri": "https://localhost:8080/"
        },
        "id": "_1r7Sca52mXs",
        "outputId": "b59343ca-53c8-4522-fb2a-f6f6b83728cc"
      },
      "execution_count": null,
      "outputs": [
        {
          "output_type": "stream",
          "name": "stdout",
          "text": [
            "Wskaźnik Geary'ego C: 1.2736093887115443\n",
            "p-value (permutacje): 0.025\n"
          ]
        }
      ]
    },
    {
      "cell_type": "code",
      "source": [
        "# Getis and Ord's G z permutacjami\n",
        "G_perm = esda.G(y, w, permutations=999)\n",
        "print('Statystyka G Getisa i Orda:', G_perm.G)\n",
        "print('p-value (permutacje):', G_perm.p_sim)"
      ],
      "metadata": {
        "id": "idXBbYT363Wf",
        "colab": {
          "base_uri": "https://localhost:8080/"
        },
        "outputId": "f5da6df8-55d9-4c8a-9a3d-ad0fd2d64029"
      },
      "execution_count": null,
      "outputs": [
        {
          "output_type": "stream",
          "name": "stdout",
          "text": [
            "Statystyka G Getisa i Orda: 0.29029858981786816\n",
            "p-value (permutacje): 0.412\n"
          ]
        }
      ]
    },
    {
      "cell_type": "markdown",
      "source": [
        "Wskaźnik Morana I: Uzyskana wartość -0.2949 z p-value 0.043 wskazuje na słabą, lecz istotną statystycznie negatywną autokorelację przestrzenną na poziomie 0.05, co sugeruje dywersyfikację między sąsiadującymi województwami.\n",
        "\n",
        "Wskaźnik Geary'ego C: Wynik 1.2736 z p-value 0.025 również potwierdza negatywną autokorelację, wskazując na wyraźne różnice między sąsiadującymi województwami i silny wpływ czynników lokalnych.\n",
        "\n",
        "Statystyka G Getisa i Orda: Wartość 0.2903 oraz p-value 0.412 sugerują brak istotnych skupisk, wskazując na losowe rozmieszczenie wartości zmiennej.\n",
        "\n",
        "Podsumowanie: Testy z permutacjami wskazują na brak silnej autokorelacji przestrzennej w badanych danych, a różnice między województwami są bardziej zróżnicowane przestrzennie niż wzajemnie zależne."
      ],
      "metadata": {
        "id": "X4yUIWkL-Bvg"
      }
    },
    {
      "cell_type": "markdown",
      "source": [
        "**Podsumowanie**\n",
        "\n",
        "Testy z permutacjami zmieniły znaczenie wyników w przypadku wskaźników Morana I i Geary'ego C, zwiększając ich istotność, podczas gdy wynik testu G Getisa i Orda pozostał niezmieniony. Permutacje okazały się więc szczególnie pomocne w uwzględnieniu niepewności przy określaniu autokorelacji przestrzennej.\n",
        "\n",
        "Finalna konkluzja dotycząca autokorelacji przestrzennej wskazuje na obecność umiarkowanej, istotnej statystycznie negatywnej autokorelacji przestrzennej w danych o odpadach komunalnych między województwami."
      ],
      "metadata": {
        "id": "IvmULQuDAZJw"
      }
    },
    {
      "cell_type": "markdown",
      "source": [
        "# Korelogram i wykres rozproszenia"
      ],
      "metadata": {
        "id": "FzW0llw9A9iG"
      }
    },
    {
      "cell_type": "code",
      "source": [
        "from splot.esda import moran_scatterplot\n",
        "\n",
        "# Standaryzacja zmiennej\n",
        "y_std = (y - y.mean()) / y.std()\n",
        "\n",
        "# Wykres rozproszenia\n",
        "fig, ax = moran_scatterplot(moran_perm, p=0.05)\n",
        "ax.set_xlabel('Standaryzowana zmienna')\n",
        "ax.set_ylabel('Przestrzennie ważona standaryzowana zmienna')\n",
        "plt.title('Wykres rozproszenia Moran\\'s I')\n",
        "plt.show()\n"
      ],
      "metadata": {
        "colab": {
          "base_uri": "https://localhost:8080/",
          "height": 740
        },
        "id": "RvIPs0EF2oEs",
        "outputId": "2e08f408-232e-41ba-ac4b-79bf6b027dd8"
      },
      "execution_count": null,
      "outputs": [
        {
          "output_type": "stream",
          "name": "stderr",
          "text": [
            "/usr/local/lib/python3.10/dist-packages/splot/_viz_esda_mpl.py:131: UserWarning: `p` is only used for plotting `esda.moran.Moran_Local`\n",
            "or `Moran_Local_BV` objects\n",
            "  warnings.warn(\n"
          ]
        },
        {
          "output_type": "display_data",
          "data": {
            "text/plain": [
              "<Figure size 700x700 with 1 Axes>"
            ],
            "image/png": "[encoded data removed]"
          },
          "metadata": {}
        }
      ]
    },
    {
      "cell_type": "code",
      "source": [
        "# Tworzenie macierzy wag opartych na odległości\n",
        "max_dist = 500000  # Maksymalna odległość (w metrach)\n",
        "w_dist = weights.DistanceBand.from_dataframe(wojewodztwa, threshold=max_dist, binary=True)\n",
        "\n",
        "# Obliczenie autokorelacji dla różnych odległości\n",
        "lags = range(1, 6)\n",
        "moran_stats = []\n",
        "\n",
        "for lag in lags:\n",
        "    w_lag = weights.KNN.from_dataframe(wojewodztwa, k=lag)\n",
        "    w_lag.transform = 'R'\n",
        "    moran_lag = esda.Moran(y, w_lag, permutations=999)\n",
        "    moran_stats.append(moran_lag.I)\n",
        "\n",
        "# Wykres korelogramu\n",
        "plt.plot(lags, moran_stats, marker='o')\n",
        "plt.title('Korelogram przestrzenny')\n",
        "plt.xlabel('Liczba najbliższych sąsiadów (k)')\n",
        "plt.ylabel('Wartość wskaźnika Moran\\'s I')\n",
        "plt.show()\n"
      ],
      "metadata": {
        "colab": {
          "base_uri": "https://localhost:8080/",
          "height": 544
        },
        "id": "3bSL3ya52qeF",
        "outputId": "39cd2184-19b8-46fe-82be-fd5ef6329926"
      },
      "execution_count": null,
      "outputs": [
        {
          "output_type": "stream",
          "name": "stderr",
          "text": [
            "/usr/local/lib/python3.10/dist-packages/libpysal/weights/distance.py:153: UserWarning: The weights matrix is not fully connected: \n",
            " There are 3 disconnected components.\n",
            "  W.__init__(self, neighbors, id_order=ids, **kwargs)\n"
          ]
        },
        {
          "output_type": "display_data",
          "data": {
            "text/plain": [
              "<Figure size 640x480 with 1 Axes>"
            ],
            "image/png": "[encoded data removed]"
          },
          "metadata": {}
        }
      ]
    },
    {
      "cell_type": "markdown",
      "source": [
        "Korelogram przestrzenny dla wskaźnika Morana I wskazuje, że przy jednym najbliższym sąsiedzie wartość autokorelacji jest bliska zeru, co oznacza niewielkie podobieństwo lub różnice między sąsiadującymi województwami. Najbardziej ujemna autokorelacja występuje jednak przy dwóch sąsiadach, co sugeruje, że na tym dystansie województwa wykazują największe zróżnicowanie w zakresie badanej zmiennej (gospodarka odpadami). W miarę dalszego zwiększania liczby sąsiadów (lagów) autokorelacja stopniowo wzrasta, zbliżając się do zera, co oznacza zmniejszające się zróżnicowanie między regionami na większych odległościach. Wynik ten wskazuje na dominację lokalnych czynników w zarządzaniu odpadami, przy czym różnice są najbardziej widoczne na poziomie bliskich sąsiadów."
      ],
      "metadata": {
        "id": "YnvxIwRNC_Bk"
      }
    },
    {
      "cell_type": "code",
      "source": [
        "# Macierz sąsiedztwa Rook\n",
        "w_rook = weights.Rook.from_dataframe(wojewodztwa)\n",
        "w_rook.transform = 'R'\n"
      ],
      "metadata": {
        "id": "H0zs_3Tj8gx3",
        "colab": {
          "base_uri": "https://localhost:8080/"
        },
        "outputId": "7d576217-dfc0-4dbf-cc5c-70d8c8640d3c"
      },
      "execution_count": null,
      "outputs": [
        {
          "output_type": "stream",
          "name": "stderr",
          "text": [
            "<ipython-input-16-6d0c8d8619e5>:2: FutureWarning: `use_index` defaults to False but will default to True in future. Set True/False directly to control this behavior and silence this warning\n",
            "  w_rook = weights.Rook.from_dataframe(wojewodztwa)\n"
          ]
        }
      ]
    },
    {
      "cell_type": "code",
      "source": [
        "# Macierz odległości z progiem\n",
        "max_distance = 500000  # 500 km\n",
        "w_distance = weights.DistanceBand.from_dataframe(wojewodztwa, threshold=max_distance)\n",
        "w_distance.transform = 'R'\n"
      ],
      "metadata": {
        "id": "m4qP0-SU8iEp"
      },
      "execution_count": null,
      "outputs": []
    },
    {
      "cell_type": "code",
      "source": [
        "# Macierz kNN z k=4\n",
        "w_knn = weights.KNN.from_dataframe(wojewodztwa, k=4)\n",
        "w_knn.transform = 'R'\n"
      ],
      "metadata": {
        "id": "3PwqpERn8jI3"
      },
      "execution_count": null,
      "outputs": []
    },
    {
      "cell_type": "code",
      "source": [
        "# Lista macierzy wag i ich nazw\n",
        "weights_list = [(w, 'Macierz wag przestrzennych Queen'), (w_rook, 'Rook'), (w_distance, 'Macierz odleglosci z progiem'), (w_knn, 'Macierz KNN (k=4)')]\n",
        "\n",
        "for w_matrix, name in weights_list:\n",
        "    moran_temp = esda.Moran(y, w_matrix, permutations=999)\n",
        "    print(f'Macierz wag: {name}')\n",
        "    print(f'  Wskaźnik Morana I: {moran_temp.I:.4f}')\n",
        "    print(f'  p-value (permutacje): {moran_temp.p_sim:.4f}')\n",
        "    print('---------------------------------------')\n"
      ],
      "metadata": {
        "id": "QybW3NXZ8kWo",
        "colab": {
          "base_uri": "https://localhost:8080/"
        },
        "outputId": "5e5dc3b5-ad0f-4f8f-b3f4-b0c30577fcf0"
      },
      "execution_count": null,
      "outputs": [
        {
          "output_type": "stream",
          "name": "stdout",
          "text": [
            "Macierz wag: Macierz wag przestrzennych Queen\n",
            "  Wskaźnik Morana I: -0.2949\n",
            "  p-value (permutacje): 0.0440\n",
            "---------------------------------------\n",
            "Macierz wag: Rook\n",
            "  Wskaźnik Morana I: -0.2949\n",
            "  p-value (permutacje): 0.0370\n",
            "---------------------------------------\n",
            "Macierz wag: Macierz odleglosci z progiem\n",
            "  Wskaźnik Morana I: -0.0859\n",
            "  p-value (permutacje): 0.2000\n",
            "---------------------------------------\n",
            "Macierz wag: Macierz KNN (k=4)\n",
            "  Wskaźnik Morana I: -0.2520\n",
            "  p-value (permutacje): 0.0700\n",
            "---------------------------------------\n"
          ]
        }
      ]
    },
    {
      "cell_type": "markdown",
      "source": [
        "Analiza autokorelacji przestrzennej dla różnych macierzy wag wykazuje różnice w sile i istotności wyników. Zarówno macierz Queen, jak i Rook wskazują na umiarkowaną, istotną statystycznie negatywną autokorelację, co sugeruje duże zróżnicowanie między sąsiadującymi województwami w zarządzaniu odpadami. W przypadku macierzy odległości i KNN autokorelacja jest słabsza i nieistotna, co oznacza, że wraz ze wzrostem odległości przestrzennej zależności te się rozmywają. Wskazuje to na dominację lokalnych różnic wśród sąsiadujących województw, natomiast większe dystanse osłabiają te zależności."
      ],
      "metadata": {
        "id": "V_QhlU7QEl9C"
      }
    }
  ]
}